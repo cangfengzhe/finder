{
 "cells": [
  {
   "cell_type": "code",
   "execution_count": 1,
   "metadata": {
    "collapsed": true
   },
   "outputs": [],
   "source": [
    "import pymysql\n",
    "import re"
   ]
  },
  {
   "cell_type": "code",
   "execution_count": 2,
   "metadata": {
    "collapsed": false
   },
   "outputs": [],
   "source": [
    "con = pymysql.connect(host='localhost', user='root', passwd='', db='xiaobaifinder', charset='utf8')\n",
    "cu = con.cursor()\n",
    "cu_r = con.cursor()\n",
    "cu_r.execute('select pmid, aff from pubmed_author\\\n",
    "   where pmid in (select pmid from pubmed_author where author_index=2 and aff=\"0\")\\\n",
    "         and\\\n",
    "         author_index=1 AND\\\n",
    "         aff != \"0\" ;')\n",
    "aff_list = cu_r.fetchall()\n",
    "for aff in aff_list:\n",
    "    for x in aff[1].split(';'):\n",
    "        author_abbr_join = None\n",
    "        author_abbr = re.compile('\\(.*?\\)').findall(x)\n",
    "        \n",
    "        if author_abbr:\n",
    "            author_abbr_join = '|'.join(author_abbr)\n",
    "#             print(author_abbr_join)\n",
    "        cu.execute('insert into  pubmed_aff values(%s,%s, %s)', (aff[0],author_abbr_join, x,))\n",
    "    con.commit()\n",
    "con.close()"
   ]
  },
  {
   "cell_type": "code",
   "execution_count": 17,
   "metadata": {
    "collapsed": false
   },
   "outputs": [
    {
     "data": {
      "text/plain": [
       "''"
      ]
     },
     "execution_count": 17,
     "metadata": {},
     "output_type": "execute_result"
    }
   ],
   "source": [
    "','.join([])"
   ]
  },
  {
   "cell_type": "code",
   "execution_count": 10,
   "metadata": {
    "collapsed": false,
    "scrolled": true
   },
   "outputs": [],
   "source": [
    "import re"
   ]
  },
  {
   "cell_type": "code",
   "execution_count": 13,
   "metadata": {
    "collapsed": false
   },
   "outputs": [
    {
     "data": {
      "text/plain": [
       "'(dsf,dfsa,afds)|(afd,asdf)|(ds)'"
      ]
     },
     "execution_count": 13,
     "metadata": {},
     "output_type": "execute_result"
    }
   ],
   "source": [
    "'|'.join()"
   ]
  },
  {
   "cell_type": "code",
   "execution_count": null,
   "metadata": {
    "collapsed": true
   },
   "outputs": [],
   "source": []
  }
 ],
 "metadata": {
  "kernelspec": {
   "display_name": "Python 3",
   "language": "python",
   "name": "python3"
  },
  "language_info": {
   "codemirror_mode": {
    "name": "ipython",
    "version": 3
   },
   "file_extension": ".py",
   "mimetype": "text/x-python",
   "name": "python",
   "nbconvert_exporter": "python",
   "pygments_lexer": "ipython3",
   "version": "3.4.3"
  }
 },
 "nbformat": 4,
 "nbformat_minor": 0
}
