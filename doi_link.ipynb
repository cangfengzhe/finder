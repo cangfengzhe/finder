{
 "cells": [
  {
   "cell_type": "code",
   "execution_count": 2,
   "metadata": {
    "collapsed": true
   },
   "outputs": [],
   "source": [
    "import multiprocessing\n",
    "import pycurl\n",
    "import pymysql\n",
    "import urllib.parse\n",
    "import io\n",
    "import re\n",
    "import json"
   ]
  },
  {
   "cell_type": "code",
   "execution_count": 43,
   "metadata": {
    "collapsed": true
   },
   "outputs": [],
   "source": [
    "# import io  \n",
    "def get_link(pmid,doi):\n",
    "#     storage = io.BytesIO()\n",
    "    try:\n",
    "        \n",
    "        storage = io.BytesIO()\n",
    "        c = pycurl.Curl()\n",
    "        c.setopt(c.URL, 'http://dx.doi.org/'+doi)\n",
    "        c.setopt(pycurl.FOLLOWLOCATION, 0) \n",
    "        #     c.setopt(pycurl.WRITEFUNCTION, storage.write)\n",
    "        # c.setopt(c.HTTPHEADER,[\"Accept: application/vnd.crossref.unixsd+xml\"])\n",
    "    #     c.setopt(pycurl.WRITEFUNCTION, storage.write)\n",
    "        c.setopt(pycurl.HEADERFUNCTION, storage.write)\n",
    "        c.perform()\n",
    "        # print(c.perform)\n",
    "        # out = c.getinfo(pycurl.EFFECTIVE_URL)\n",
    "        content = storage.getvalue().decode('utf-8')\n",
    "    #     out = json.loads(content)\n",
    "    #     out = re.compile('(?<=href=\").*(?=\">)').findall(content)[0]\n",
    "#         print(content)\n",
    "        out = re.compile('(?<=Location:).+(?=\\n)').findall(content)[0]\n",
    "        cu_w.execute('insert into doi_link values(%s, %s, %s)', (pmid,doi, out))\n",
    "        con.commit()\n",
    "        c.close()\n",
    "        storage.close()\n",
    "    \n",
    "    except Exception as e:\n",
    "        print(e)\n",
    "        print('error: ',doi)"
   ]
  },
  {
   "cell_type": "code",
   "execution_count": 41,
   "metadata": {
    "collapsed": true
   },
   "outputs": [
    {
     "name": "stdout",
     "output_type": "stream",
     "text": [
      "list index out of range\n",
      "list index out of range\n",
      "list index out of range\n",
      "list index out of range\n",
      "list index out of range\n",
      "list index out of range\n",
      "list index out of range\n",
      "list index out of range\n",
      "list index out of range\n",
      "list index out of range\n",
      "error:  10.3760/cma.j.issn.0253-2727.2015.11 .001\n",
      "error:  10.3934/mbe.2015.12. 1065\n",
      "error:  10.3760/cma. j. issn.2095-4352.2015.08.017\n",
      "error:  10.3760/cma. j. issn.2095-4352.2015.07.018\n",
      "error:  10.3760/cma. j. issn.2095-4352.2015.07.017\n",
      "error:  10.3760/cma. j. issn.2095-4352.2015.06.025\n",
      "error:  10.3760/cma. j. issn.2095-4352.2015.06.023\n",
      "error:  10.3760/cma. j. issn.2095-4352.2015.06.020\n",
      "error:  10.3760/cma. j. issn.2095-4352.2015.04.020\n",
      "error:  10.3760/cma. j. issn.2095-4352. 2014. 08.019\n",
      "list index out of rangelist index out of rangelist index out of rangelist index out of rangelist index out of rangelist index out of rangelist index out of rangelist index out of rangelist index out of rangelist index out of range\n",
      "\n",
      "\n",
      "\n",
      "\n",
      "\n",
      "\n",
      "\n",
      "\n",
      "\n",
      "error:  10.3760/cma. j. issn.2095-4352.2015.06.024\n",
      "error:  10.3760/cma. j. issn.2095-4352.2015.08.018\n",
      "error:  10.3760/cma. j. issn.2095-4352.2015.06.026\n",
      "error:  10.3760/cma. j. issn.2095-4352.2015.06.021\n",
      "error:  10.3760/cma. j. issn.2095-4352.2015.06.022\n",
      "error:  10.3760/cma. j. issn.2095-4352.2015.04.018\n",
      "error:  10.3760/cma. j. issn.2095-4352.2015.05.019\n",
      "error:  doi: 10.1590/S1677-5538.IBJU.2015.02.05\n",
      "error:  10.3760/cma. j. issn.2095-4352.2015.03.017\n",
      "error:  10.3760/cma. j. issn.2095-4352. 2014. 07.014\n",
      "list index out of rangelist index out of rangelist index out of rangelist index out of rangelist index out of rangelist index out of rangelist index out of rangelist index out of rangelist index out of rangelist index out of range\n",
      "\n",
      "\n",
      "\n",
      "\n",
      "\n",
      "\n",
      "\n",
      "\n",
      "\n",
      "error:  10.3760/cma. j. issn.2095-4352.2015.04.021\n",
      "error:  10.3760/cma. j. issn.2095-4352.2015.06.027\n",
      "error:  10.3760/cma. j. issn.2095-4352.2015.06.018\n",
      "error:  10.3760/cma. j. issn.2095-4352.2015.02.017\n",
      "error:  10.3760/cma. j. issn.2095-4352.2015.05.018\n",
      "error:  10.3760/cma. j. issn.2095-4352.2015.03.019\n",
      "error:  10.3760/cma. j. issn.2095-4352. 2014. 11.017\n",
      "error:  10.3760/cma. j. issn.2095-4352.2015.05.017\n",
      "error:  10.3760/cma. j. issn.2095-4352. 2014. 08.021\n",
      "error:  10.3760/cma. j. issn.2095-4352. 2013. 09.020\n",
      "list index out of rangelist index out of rangelist index out of rangelist index out of rangelist index out of rangelist index out of rangelist index out of rangelist index out of rangelist index out of rangelist index out of range\n",
      "\n",
      "\n",
      "\n",
      "\n",
      "\n",
      "\n",
      "\n",
      "\n",
      "\n",
      "error:  10.3760/cma. j. issn.2095-4352.2015.03.020\n",
      "error:  10.3760/cma. j. issn.2095-4352.2015.06.019\n",
      "error:  10.3760/cma. j. issn.2095-4352.2015.04.023\n",
      "error:  10.3760/cma. j. issn.2095-4352. 2014. 12.018\n",
      "error:  10.3760/cma. j. issn.2095-4352.2015.02.018\n",
      "error:  10.3760/cma. j. issn.2095-4352. 2014. 10.018\n",
      "error:  10.3760/cma. j. issn.2095-4352. 2014. 10.022\n",
      "error:  10.3760/cma. j. issn.2095-4352.2015.04.017\n",
      "error:  10.3760/cma. j. issn.2095-4352. 2014. 08.017\n",
      "error:  10.3760/cma. j. issn.2095-4352. 2013. 09.013\n",
      "list index out of rangelist index out of rangelist index out of rangelist index out of rangelist index out of rangelist index out of rangelist index out of rangelist index out of rangelist index out of rangelist index out of range\n",
      "\n",
      "\n",
      "\n",
      "\n",
      "\n",
      "\n",
      "\n",
      "\n",
      "\n",
      "error:  10.3760/cma. j. issn.2095-4352. 2014. 12.018\n",
      "error:  10.3760/cma. j. issn.2095-4352.2015.04.022\n",
      "error:  10.3760/cma. j. issn.2095-4352.2015.03.018\n",
      "error:  10.3760/cma. j. issn.2095-4352. 2014. 10.024\n",
      "error:  10.3760/cma. j. issn.2095-4352. 2015. 01.017\n",
      "error:  10.3760/cma. j. issn.2095-4352. 2014. 09.017\n",
      "error:  10.3760/cma. j. issn.2095-4352. 2014. 08.020\n",
      "error:  10.3760/cma. j. issn.2095-4352. 2014. 10.019\n",
      "error:  10.3760/cma. j. issn.2095-4352. 2014. 07.018\n",
      "error:  10.3760/cma. j. issn.2095-4352. 2013. 08.018\n",
      "list index out of rangelist index out of rangelist index out of rangelist index out of rangelist index out of rangelist index out of rangelist index out of rangelist index out of rangelist index out of rangelist index out of range\n",
      "\n",
      "\n",
      "\n",
      "\n",
      "\n",
      "\n",
      "\n",
      "\n",
      "\n",
      "error:  10.3760/cma. j. issn.2095-4352. 2014. 08.022\n",
      "error:  10.3760/cma. j. issn.2095-4352.2015.04.019\n",
      "error:  10.3760/cma. j. issn.2095-4352. 2014. 12.017\n",
      "error:  10.3760/cma. j. issn.2095-4352. 2014. 02.001\n",
      "error:  10.3760/cma. j. issn.2095-4352. 2014. 12.019\n",
      "error:  10.3760/cma. j. issn.2095-4352. 2014. 07.017\n",
      "error:  10.3760/cma. j. issn.2095-4352. 2014. 08.015\n",
      "error:  doi: 10.1590/S1677-5538.IBJU.2014.02.07\n",
      "error:  10.3760/cma. j. issn.2095-4352. 2014. 02.015\n",
      "error:  10.3760/cma. j. issn.2095-4352. 2013. 08.011\n",
      "list index out of rangelist index out of rangelist index out of rangelist index out of rangelist index out of rangelist index out of rangelist index out of rangelist index out of rangelist index out of rangelist index out of range\n",
      "\n",
      "\n",
      "\n",
      "\n",
      "\n",
      "\n",
      "\n",
      "\n",
      "\n",
      "error:  10.3760/cma. j. issn.2095-4352. 2014. 08.018\n",
      "error:  10.3760/cma. j. issn.2095-4352. 2014. 06.019\n",
      "error:  10.3760/cma. j. issn.2095-4352. 2014. 10.023\n",
      "error:  10.3760/cma. j. issn.2095-4352. 2014. 01.015\n",
      "error:  10.3760/cma. j. issn.2095-4352. 2014. 11.018\n",
      "error:  10.3760/cma. j. issn.2095-4352. 2014. 01.013\n",
      "error:  10.3760/cma. j. issn.2095-4352. 2014. 06.018\n",
      "error:  10.3760/cma. j. issn.2095-4352. 2013. 12.014\n",
      "error:  10.3760/cma. j. issn.2095-4352. 2013. 12.016\n",
      "error:  10. 3760/cma.j.issn.0253-3766.2012.06.010\n",
      "list index out of rangelist index out of rangelist index out of rangelist index out of rangelist index out of rangelist index out of rangelist index out of rangelist index out of rangelist index out of rangelist index out of range\n",
      "\n",
      "\n",
      "\n",
      "\n",
      "\n",
      "\n",
      "\n",
      "\n",
      "\n",
      "error:  10.3760/cma. j. issn.2095-4352. 2014. 07.015\n",
      "error:  10.3760/cma. j. issn.2095-4352. 2013. 12.017\n",
      "error:  10.3760/cma. j. issn.2095-4352. 2014. 08.016\n",
      "error:  10.3760/cma. j. issn.2095-4352. 2013. 12.010\n",
      "error:  10.3934/mbe.2014.11. 1395\n",
      "error:  10.3760/cma. j. issn.2095-4352. 2013. 12.019\n",
      "error:  10.3760/cma. j. issn.2095-4352. 2014. 01.012\n",
      "error:  10.3760/cma. j. issn.2095-4352. 2013. 09.008\n",
      "error:  10.3760/cma. j. issn.2095-4352. 2013. 09.022\n",
      "error:  10. 3760/cma.j.issn.0253-3766.2012.05.011\n",
      "list index out of rangelist index out of rangelist index out of rangelist index out of rangelist index out of rangelist index out of rangelist index out of rangelist index out of rangelist index out of rangelist index out of range\n",
      "\n",
      "\n",
      "\n",
      "\n",
      "\n",
      "\n",
      "\n",
      "\n",
      "\n",
      "error:  10.3760/cma. j. issn.2095-4352. 2014. 02.003\n",
      "error:  10.3760/cma. j. issn.2095-4352. 2013. 09.015\n",
      "error:  10.3760/cma. j. issn.2095-4352. 2014. 07.016\n",
      "error:  10.3760/cma. j. issn.2095-4352. 2013. 10.013\n",
      "error:  10.3760/cma. j. issn.2095-4352. 2014. 10.021\n",
      "error:  10.3760/cma. j. issn.2095-4352. 2013. 09.019\n",
      "error:  10.3305/nutr hosp.v28in06.6480\n",
      "error:  10.3760/cma. j. issn.2095-4352. 2013. 08.014\n",
      "error:  10.3760/cma. j. issn.2095-4352. 2013. 09.001\n",
      "error:  10. 3760/cma.j.issn.0253-3766.2012.05.004\n",
      "list index out of rangelist index out of rangelist index out of rangelist index out of rangelist index out of rangelist index out of rangelist index out of rangelist index out of rangelist index out of rangelist index out of range\n",
      "\n",
      "\n",
      "\n",
      "\n",
      "\n",
      "\n",
      "\n",
      "\n",
      "\n",
      "error:  10.3934/mbe.2014.11. 449\n",
      "error:  DOI: 10.3113/FAI.2012.1119\n",
      "error:  10.3760/cma. j. issn.2095-4352. 2013. 12.011\n",
      "error:  10.3760/cma. j. issn.2095-4352. 2013. 07.018\n",
      "error:  10.3760/cma. j. issn.2095-4352. 2014. 06.015\n",
      "error:  10.3760/cma. j. issn.2095-4352. 2013. 07.017\n",
      "error:  10.3760/cma. j. issn.2095-4352. 2013. 10.015\n",
      "error:  DOI: 10.3113/FAI.2012.0912\n",
      "error:  10.3760/cma. j. issn.2095-4352. 2013. 08.013\n",
      "error:  10.3724/SP.J.1141.2010. 06651\n",
      "list index out of rangelist index out of rangelist index out of rangelist index out of rangelist index out of rangelist index out of rangelist index out of rangelist index out of rangelist index out of range\n",
      "\n",
      "\n",
      "\n",
      "\n",
      "\n",
      "\n",
      "\n",
      "\n",
      "error:  10.3760/cma. j. issn.2095-4352. 2013. 09.023\n",
      "error:  10. 3760/cma.j.issn.0253-3766.2012.06.006\n",
      "error:  10.3760/cma. j. issn.2095-4352. 2013. 09.016\n",
      "error:  10. 3760/cma.j.issn.0253-3766.2012.06.012\n",
      "error:  10.3760/cma. j. issn.2095-4352. 2014.01.014\n",
      "error:  DOI: 10.3113/FAI.2012.1015\n",
      "error:  10.3760/cma. j. issn.2095-4352.2013.08.001\n",
      "error:  10. 3760/cma.j.issn.0253-3766.2012.06.013\n",
      "error:  10.3760/cma. j. issn.2095-4352. 2013. 07.020\n",
      "list index out of rangelist index out of rangelist index out of rangelist index out of rangelist index out of rangelist index out of rangelist index out of rangelist index out of rangelist index out of range\n",
      "\n",
      "\n",
      "\n",
      "\n",
      "\n",
      "\n",
      "\n",
      "\n",
      "error:  10.3760/cma. j. issn.2095-4352. 2013. 09.014\n",
      "error:  10. 3760/cma.j.issn.0253-3766.2012.05.017\n",
      "error:  10.3760/cma. j. issn.2095-4352.2013.07.004\n",
      "error:  10. 3760/cma.j.issn.0253-3766.2012.05.015\n",
      "error:  10.3760/cma. j. issn.2095-4352. 2013. 10.014\n",
      "error:  10. 3760/cma.j.issn.0253-3766.2012.06.016\n",
      "error:  10.3760/cma. j. issn.2095-4352. 2013. 06.017\n",
      "error:  10. 3760/cma.j.issn.0253-3766.2012.06.003\n",
      "error:  10.3760/cma. j. issn.2095-4352. 2013. 06.018\n",
      "list index out of rangelist index out of rangelist index out of rangelist index out of rangelist index out of rangelist index out of rangelist index out of rangelist index out of rangelist index out of range\n",
      "\n",
      "\n",
      "\n",
      "\n",
      "\n",
      "\n",
      "\n",
      "\n",
      "error:  10.3760/cma. j. issn.2095-4352. 2013. 06.016\n",
      "error:  10. 3760/cma.j.issn.0253-3766.2012.05.008\n",
      "error:  10. 3760/cma.j.issn.0253-3766.2012.06.014\n",
      "error:  10. 3760/cma.j.issn.0253-3766.2012.05.009\n",
      "error:  10.3760/cma. j. issn.2095-4352. 2013. 09.012\n",
      "error:  10. 3760/cma.j.issn.0253-3766.2012.06.008\n",
      "error:  10. 3760/cma.j.issn.0253-3766.2012.06.015\n",
      "error:  10. 3760/cma.j.issn.0253-3766.2012.05.012\n",
      "error:  10.3760/cma. j. issn.2095-4352. 2013. 06.015\n",
      "list index out of rangelist index out of rangelist index out of rangelist index out of rangelist index out of rangelist index out of rangelist index out of rangelist index out of range\n",
      "\n",
      "\n",
      "\n",
      "\n",
      "\n",
      "\n",
      "\n",
      "error:  10. 3760/cma.j.issn.0253-3766.2012.06.017\n",
      "error:  DOI: 10.3113/FAI.2012.1113\n",
      "error:  10. 3760/cma.j.issn.0253-3766.2012.06.005\n",
      "error:  10.1227/01. NEU.0000368386.85578.63\n",
      "error:  10.3760/cma. j. issn.2095-4352. 2013. 08.017\n",
      "error:  10. 3760/cma.j.issn.0253-3766.2012.05.014\n",
      "error:  10. 3760/cma.j.issn.0253-3766.2012.06.004\n",
      "error:  10. 3760/cma.j.issn.0253-3766.2012.05.003\n",
      "list index out of rangelist index out of rangelist index out of rangelist index out of rangelist index out of rangelist index out of rangelist index out of range\n",
      "\n",
      "\n",
      "\n",
      "\n",
      "\n",
      "\n",
      "error:  10. 3760/cma.j.issn.0253-3766.2012.06.007\n",
      "error:  10. 3760/cma.j.issn.0253-3766.2012.06.009\n",
      "error:  10. 3760/cma.j.issn.0253-3766.2012.05.016\n",
      "error:  10.5137/1019-5149.JTN .4524-11.1\n",
      "error:  10.3760/cma. j. issn.2095-4352. 2013. 08.019\n",
      "error:  10. 3760/cma.j.issn.0253-3766.2012.05.007\n",
      "error:  10. 3760/cma.j.issn.0253-3766.2012.05.018\n",
      "list index out of rangelist index out of rangelist index out of rangelist index out of rangelist index out of range\n",
      "\n",
      "\n",
      "\n",
      "\n",
      "error:  10. 3760/cma.j.issn.0253-3766.2012.05.010\n",
      "error:  10. 3760/cma.j.issn.0253-3766.2012.05.006\n",
      "error:  10. 3760/cma.j.issn.0253-3766.2012.05.005\n",
      "error:  10.5137/1019-5149.JTN .4474-11.1\n",
      "error:  10. 3760/cma.j.issn.0253-3766.2012.06.011\n",
      "list index out of rangelist index out of rangelist index out of range\n",
      "\n",
      "\n",
      "error:  10. 3760/cma.j.issn.0253-3766.2012.05.002\n",
      "error:  10.5137/1019-5149.JTN .4639-11.1\n",
      "error:  10.3724/SP.J.1141.2010. 06645\n",
      "list index out of range\n",
      "error:  10.3129/can j ophthalmol.i07-014\n"
     ]
    }
   ],
   "source": [
    "con = pymysql.connect(host='localhost', user='root', passwd='', db='xiaobaifinder', charset='utf8')\n",
    "cu_r = con.cursor()\n",
    "# 差集\n",
    "cu_r.execute(\"select pmid, doi from pubmed_articles where doi != '0' and doi not in (select doi from doi_link)  \")\n",
    "cu_w = con.cursor()\n",
    "doi_list = cu_r.fetchall()\n",
    "pool = multiprocessing.Pool(processes= 10) # 设置进程数\n",
    "for doi in doi_list:\n",
    "    pool.apply_async(get_link, (doi[0], doi[1], ))\n",
    "# process_pubmed('24735618')\n",
    "# efetch('24735618')\n",
    "pool.close()\n",
    "pool.join()\n",
    "con.close()"
   ]
  },
  {
   "cell_type": "code",
   "execution_count": 44,
   "metadata": {
    "collapsed": false
   },
   "outputs": [
    {
     "name": "stdout",
     "output_type": "stream",
     "text": [
      "HTTP/1.1 505 HTTP Version Not Supported\r\n",
      "Server: Apache-Coyote/1.1\r\n",
      "Date: Thu, 21 Jan 2016 11:31:43 GMT\r\n",
      "Connection: close\r\n",
      "\r\n",
      "\n",
      "list index out of range\n",
      "error:  10.3760/cma. j. issn.2095-4352.2015.05.019\n"
     ]
    }
   ],
   "source": [
    "out = get_link('1', '10.3760/cma. j. issn.2095-4352.2015.05.019')"
   ]
  },
  {
   "cell_type": "code",
   "execution_count": 37,
   "metadata": {
    "collapsed": false
   },
   "outputs": [
    {
     "data": {
      "text/plain": [
       "283"
      ]
     },
     "execution_count": 37,
     "metadata": {},
     "output_type": "execute_result"
    }
   ],
   "source": [
    "len(out)"
   ]
  },
  {
   "cell_type": "code",
   "execution_count": 23,
   "metadata": {
    "collapsed": true
   },
   "outputs": [],
   "source": [
    "def get_content(pmid, doi):\n",
    "    try:\n",
    "        storage = io.BytesIO()\n",
    "        c = pycurl.Curl()\n",
    "        c.setopt(c.URL, 'http://dx.doi.org/'+doi)\n",
    "        c.setopt(pycurl.FOLLOWLOCATION, 1) \n",
    "        c.setopt(pycurl.WRITEFUNCTION, storage.write)\n",
    "        # c.setopt(c.HTTPHEADER,[\"Accept: application/vnd.crossref.unixsd+xml\"])\n",
    "        c.perform()\n",
    "        out = c.getinfo(pycurl.EFFECTIVE_URL)\n",
    "#         cu_w.execute('insert into doi_link values(%s, %s, %s)', (pmid,doi, out))\n",
    "#         con.commit()\n",
    "        c.close()\n",
    "        content = storage.getvalue()\n",
    "        print(out)\n",
    "        print(content)\n",
    "        storage.close()\n",
    "        return(content)\n",
    "    except Exception as e:\n",
    "        print(e)"
   ]
  },
  {
   "cell_type": "code",
   "execution_count": 24,
   "metadata": {
    "collapsed": true
   },
   "outputs": [
    {
     "name": "stdout",
     "output_type": "stream",
     "text": [
      "http://link.springer.com/article/10.1007%2Fs12559-015-9328-x\n",
      "b'<!DOCTYPE html>\\n<!--[if lt IE 7]> <html lang=\"en\" class=\"no-js ie6 lt-ie10 lt-ie9 lt-ie8\"> <![endif]-->\\n<!--[if IE 7]>    <html lang=\"en\" class=\"no-js ie7 lt-ie10 lt-ie9 lt-ie8\"> <![endif]-->\\n<!--[if IE 8]>    <html lang=\"en\" class=\"no-js ie8 lt-ie10 lt-ie9\"> <![endif]-->\\n<!--[if IE 9]>    <html lang=\"en\" class=\"no-js ie9 lt-ie10\"> <![endif]-->\\n<!--[if gt IE 9]><!--> <html lang=\"en\" class=\"no-js\"> <!--<![endif]-->\\n<head>\\n  <meta charset=\"UTF-8\"/>\\n  <meta name=\"description\" content=\"\"/>\\n  <meta name=\"author\" content=\"\"/>\\n  <meta name=\"viewport\" content=\"width=device-width, minimum-scale=1, maximum-scale=1\"/>\\n  <meta name=\"format-detection\" content=\"telephone=no\"/>\\n  <meta name=\"citation_publisher\" content=\"Springer US\"/>\\n  <meta name=\"citation_title\" content=\"An Integrated Qualitative and Quantitative Biochemical Model Learning Framework Using Evolutionary Strategy and Simulated Annealing\"/>\\n  <meta name=\"citation_firstpage\" content=\"637\"/>\\n  <meta name=\"citation_lastpage\" content=\"651\"/>\\n  <meta name=\"citation_doi\" content=\"10.1007/s12559-015-9328-x\"/>\\n  <meta name=\"citation_language\" content=\"en\"/>\\n  <meta name=\"citation_abstract_html_url\" content=\"http://link.springer.com/article/10.1007/s12559-015-9328-x\"/>\\n  <meta name=\"citation_fulltext_html_url\" content=\"http://link.springer.com/article/10.1007/s12559-015-9328-x/fulltext.html\"/>\\n  <meta name=\"citation_pdf_url\" content=\"http://link.springer.com/content/pdf/10.1007%2Fs12559-015-9328-x.pdf\"/>\\n  <meta name=\"citation_springer_api_url\" content=\"http://api.springer.com/metadata/pam?q=doi:SpringerId(10.1007/s12559-015-9328-x)&amp;api_key=\"/>\\n  <meta name=\"citation_author\" content=\"Zujian Wu\"/>\\n  <meta name=\"citation_author_institution\" content=\"Jinan University\"/>\\n  <meta name=\"citation_author_email\" content=\"zujian.wu@jnu.edu.cn\"/>\\n  <meta name=\"citation_author\" content=\"Wei Pang\"/>\\n  <meta name=\"citation_author_institution\" content=\"University of Aberdeen\"/>\\n  <meta name=\"citation_author_email\" content=\"pang.wei@abdn.ac.uk\"/>\\n  <meta name=\"citation_author\" content=\"George M. Coghill\"/>\\n  <meta name=\"citation_author_institution\" content=\"University of Aberdeen\"/>\\n  <meta name=\"citation_author_email\" content=\"g.coghill@abdn.ac.uk\"/>\\n  <meta name=\"citation_journal_title\" content=\"Cognitive Computation\"/>\\n  <meta name=\"citation_journal_abbrev\" content=\"Cogn Comput\"/>\\n  <meta name=\"citation_volume\" content=\"7\"/>\\n  <meta name=\"citation_issue\" content=\"6\"/>\\n  <meta name=\"citation_issn\" content=\"1866-9956\"/>\\n  <meta name=\"citation_issn\" content=\"1866-9964\"/>\\n  <meta name=\"citation_online_date\" content=\"2015/05/03\"/>\\n  <meta name=\"citation_cover_date\" content=\"2015/12/01\"/>\\n  <meta name=\"twitter:card\" content=\"summary\"/>\\n  <meta name=\"twitter:title\" content=\"An Integrated Qualitative and Quantitative Biochemical Model Learning \"/>\\n  <meta name=\"twitter:description\" content=\"Both qualitative and quantitative model learning frameworks for biochemical systems have been studied in computational systems biology. In this research, after introducing two forms of pre-defined com\"/>\\n  <meta name=\"twitter:image\" content=\"http://link.springer.comhttp://static-content.springer.com/cover/journal/12559/7/6.jpg\"/>\\n  <meta name=\"twitter:site\" content=\"SpringerSBM\"/>\\n  <meta name=\"dc.identifier\" content=\"10.1007/s12559-015-9328-x\"/>\\n  <meta name=\"citation_fulltext_world_readable\" content=\"\"/>\\n  <!--[if (gt IE 8) | (IEMobile)]><!--> <link rel=\"stylesheet\" media=\"screen\" href=\"/static/1.962/css/modern_link.min.css\"> <!--<![endif]-->\\n  <!--[if (lt IE 9) & (!IEMobile)]> <link rel=\"stylesheet\" media=\"screen\" href=\"/static/1.962/css/ielt9_link.min.css\"> <![endif]-->\\n  <link rel=\"stylesheet\" media=\"screen\" href=\"/static/1.962/css/springer_casper.min.css\"/>\\n  <link rel=\"apple-touch-icon-precomposed\" size=\"144x144\" href=\"/static/1.962/sites/link/images/apple-touch-icon-144x144-precomposed.png\"/>\\n  <link rel=\"apple-touch-icon-precomposed\" size=\"114x114\" href=\"/static/1.962/sites/link/images/apple-touch-icon-114x114-precomposed.png\"/>\\n  <link rel=\"apple-touch-icon-precomposed\" size=\"72x72\" href=\"/static/1.962/sites/link/images/apple-touch-icon-72x72-precomposed.png\"/>\\n  <link rel=\"apple-touch-icon-precomposed\" size=\"57x57\" href=\"/static/1.962/sites/link/images/apple-touch-icon-57x57-precomposed.png\"/>\\n  <link rel=\"apple-touch-icon-precomposed\" href=\"/static/1.962/sites/link/images/apple-touch-icon-57x57-precomposed.png\"/>\\n  <link rel=\"shortcut icon\" href=\"/static/1.962/sites/link/images/favicon-32x32.png\"/>\\n  <!--[if IE]>\\n    <link rel=\"shortcut icon\" href=\"/static/1.962/sites/link/images/favicon.ico\"/>\\n  <![endif]-->\\n  <meta name=\"msapplication-TileColor\" content=\"#FFFFFF\"/>\\n  <meta name=\"msapplication-TileImage\" content=\"/static/1.962/sites/link/images/ms-tileimage.png\"/>\\n  <link rel=\"canonical\" href=\"http://link.springer.com/article/10.1007%2Fs12559-015-9328-x\"/>\\n  <script type=\"text/javascript\">\\n    window.suggestmeyes_loaded = true;\\n  </script>\\n  <script type=\"text/javascript\">window.jsErrors = [];window.onerror = function(errorMessage) {window.jsErrors[window.jsErrors.length] = errorMessage;}</script>\\n  <script>document.documentElement.className = document.documentElement.className.replace(/\\\\bno-js\\\\b/,\\'js\\');</script>\\n  <script type=\"text/javascript\">\\n    var _gaq = _gaq || [];\\n  </script>\\n  <script type=\"text/javascript\">\\n    var googletag = googletag || {};\\n    googletag.cmd = googletag.cmd || [];\\n    (function() {\\n    var gads = document.createElement(\\'script\\');\\n    gads.async = true;\\n    gads.type = \\'text/javascript\\';\\n    var useSSL = \\'https:\\' == document.location.protocol;\\n    gads.src = (useSSL ? \\'https:\\' : \\'http:\\') +\\n    \\'//www.googletagservices.com/tag/js/gpt.js\\';\\n    var node = document.getElementsByTagName(\\'script\\')[0];\\n    node.parentNode.insertBefore(gads, node);\\n    })();\\n  </script>\\n  <script type=\"text/javascript\" id=\"googletag-push\">\\n    googletag.cmd.push(function() {\\n    googletag.defineSlot(\\'6313/casper/journal/article\\', [160, 600], \\'doubleclick-ad\\').addService(googletag.pubads());\\n    googletag.pubads().setTargeting(\"eissn\",\"1866-9964\");\\n    googletag.pubads().setTargeting(\"pissn\",\"1866-9956\");\\n    googletag.pubads().setTargeting(\"doi\",\"10.1007-s12559-015-9328-x\");\\n    googletag.pubads().setTargeting(\"kwrd\",[\"Evolutionary_algorithms\",\"Heuristic_algorithms\",\"Qualitative_model_learning\",\"Quantitative_model_learning\",\"Systems_biology\"]);\\n    googletag.pubads().setTargeting(\"pmc\",[\"B\",\"B18006\",\"I16013\",\"I21017\",\"I23050\"]);\\n    googletag.pubads().setTargeting(\"BPID\",[\"3000116047\",\"3000192835\",\"3000202650\",\"3000795525\",\"3991463001\"]);\\n    googletag.pubads().enableSingleRequest();\\n    googletag.enableServices();\\n    });\\n  </script>\\n  <title>An Integrated Qualitative and Quantitative Biochemical Model Learning Framework Using Evolutionary Strategy and Simulated Annealing - Springer</title>\\n</head>\\n\\n<body class=\"company link\" data-name=\"link\">\\n  <div id=\"wrapper\">\\n    <div id=\"header\" role=\"banner\">\\n  <a id=\"logo\" href=\"/\">\\n  <img src=\"/static/1.962/sites/link/images/logo-base.png\" alt=\"Logo Springer\" title=\"SpringerLink\"/>\\n</a>\\n\\n  <div class=\"panel-search\">\\n    <form id=\"global-search\" class=\"big-search\" action=\"/search\" method=\"get\" role=\"search\">\\n      <div class=\"search-field\">\\n        <input id=\"query\" class=\"text\" name=\"query\" type=\"text\" autocomplete=\"off\" value=\"\" placeholder=\"Search\" title=\"Search\"/>\\n      </div>\\n      <input id=\"search\" class=\"search-submit\" type=\"submit\" value=\"Submit\" title=\"New Search\"/>\\n      <div id=\"search-options\" class=\"flyout\">\\n        <button class=\"pillow-btn open-search-options\" title=\"Open search options\" type=\"button\">Search Options</button>\\n        <div class=\"flyout-content\">\\n          <ul>\\n            <li>\\n              <a id=\"advanced-search-link\" href=\"/advanced-search\">Advanced Search</a>\\n            </li>\\n            <li>\\n              <a id=\"search-help-link\" href=\"/searchhelp\">Search Help</a>\\n            </li>\\n          </ul>\\n        </div>\\n      </div>\\n    </form>\\n  </div>\\n  <button class=\"pillow-btn open-search\" title=\"Open search\">Search</button>\\n  <button class=\"pillow-btn open-menu\" title=\"Open menu\">Menu</button>\\n  <div class=\"panel-menu\">\\n    <div id=\"cross-nav\">\\n      <div id=\"auth\" class=\"flyout\">\\n        <a id=\"register-link\" class=\"flyout-caption\" href=\"/signup-login?previousUrl=http%3A%2F%2Flink.springer.com%2Farticle%2F10.1007%252Fs12559-015-9328-x\">\\n          &#187; Sign up / Log in\\n        </a>\\n      </div>\\n      <div id=\"lang\" class=\"flyout\">\\n        <button class=\"flyout-caption cur\">English</button>\\n        <div class=\"flyout-content\">\\n          <ul>\\n            <li>\\n              <a id=\"change-language-Deutsch\" href=\"/language/Deutsch\" rel=\"nofollow\">Deutsch</a>\\n            </li>\\n          </ul>\\n        </div>\\n      </div>\\n      <div id=\"edition\" class=\"flyout\">\\n  <button class=\"flyout-caption cur\">Academic edition</button>\\n  <div class=\"flyout-content\">\\n    <ul>\\n      <li>\\n        <a class=\"edition-select\" href=\"/siteEdition/rd\" rel=\"nofollow\">Corporate edition</a>\\n      </li>\\n    </ul>\\n  </div>\\n</div>\\n\\n    </div>\\n    <!-- /- giving kb-only user the option to skip to relevant content (see KeyboardNavigation.js) -->\\n    <div id=\"skip-navigation\">\\n      <p class=\"skip-navigation--label\">\\n        <span>Skip to:</span>\\n        <a href=\"#kb-nav--main\">Main content</a>\\n        <a href=\"#kb-nav--aside\">Side column</a>\\n      </p>\\n    </div>\\n    <div id=\"logo-company\">\\n    </div>\\n    <ul id=\"global-nav\" class=\"clearfix\" role=\"navigation\">\\n      <li>\\n        <a href=\"/\">Home</a>\\n      </li>\\n      <li>\\n        <a href=\"/contactus\">Contact Us</a>\\n      </li>\\n    </ul>\\n  </div>\\n</div>\\n\\n    <div id=\"content\">\\n      <input id=\"autoShowLookInside\" type=\"hidden\" value=\"false\"/>\\n      <input id=\"leafContentType\" type=\"hidden\" value=\"Article\"/>\\n      <div id=\"article\" class=\"document\" itemscope=\"itemscope\" itemtype=\"http://schema.org/ScholarlyArticle\">\\n        <div class=\"\">\\n      <div class=\"bar-dock\">\\n        <div class=\"bar-wrapper\">\\n          <div class=\"bar-actions\">\\n            <span class=\"action icon-download icon-epub\">\\n      <a id=\"action-bar-download-article-pdf-link\" class=\"webtrekk-track pdf-link\" doi=\"10.1007/s12559-015-9328-x\" parentDoi=\"12559\" pageType=\"rd_springer_com.journal.article_pdf\" parentContentType=\"Journal\" contentType=\"Article\" viewType=\"Article pdf download\" publication=\"12559 | Cognitive Computation\" href=\"/content/pdf/10.1007%2Fs12559-015-9328-x.pdf\">\\n        Download PDF\\n        <span id=\"action-bar-download-pdf-size\">\\n          (881 KB)\\n        </span>\\n      </a>\\n    </span>\\n\\n            <span class=\"action icon-view\">\\n      <a id=\"action-bar-full-text-link\" class=\"webtrekk-track fulltext\" href=\"/article/10.1007/s12559-015-9328-x/fulltext.html\" pageType=\"rd_springer_com.journal.article_full_text\" publication=\"12559 | Cognitive Computation\" doi=\"10.1007/s12559-015-9328-x\" parentContentType=\"Journal\" contentType=\"Article\" itemprop=\"url\" viewType=\"Full text download\">\\n        View Article\\n      </a>\\n    </span>\\n\\n          </div>\\n        </div>\\n      </div>\\n    </div>\\n\\n        <div id=\"kb-nav--main\" class=\"document-main layout-3\">\\n          <div id=\"kb-nav--main\" class=\"col-main has-full-enumeration\" role=\"main\">\\n            <!DOCTYPE html\\n              SYSTEM \"about:legacy-compat\">\\n            <div xmlns=\"http://www.w3.org/1999/xhtml\" xmlns:meta=\"http://www.springer.com/app/meta\" xmlns:epub=\"http://www.idpf.org/2007/ops\"><section><header id=\"enumeration\"><strong>Article</strong><p><a href=\"/journal/12559\"><span class=\"JournalTitle\">Cognitive Computation</span></a></p><p><span class=\"ArticleCitation_Year\"><time>December 2015</time>, </span><span class=\"ArticleCitation_Volume\">Volume 7,</span><a class=\"ArticleCitation_Issue\" href=\"/journal/12559/7/6/page/1\">&nbsp;Issue&nbsp;6,</a><span class=\"ArticleCitation_Pages\"> pp 637-651</span></p><div class=\"version version-html5\"><p>First online:\\n                            <span class=\"ArticleCitation_Year\"><time>03 May 2015</time></span><span class=\"version-info version-info_latest\"></span></p></div><div class=\"open-access\"><span class=\"lozenge lozenge--style1 help\">Open Access <span class=\"tooltip\">This content is freely available online to anyone, anywhere at any time.</span></span></div></header></section><div xmlns=\"\" class=\"MainTitleSection\"><h1 xmlns=\"http://www.w3.org/1999/xhtml\" class=\"ArticleTitle\" lang=\"en\">An Integrated Qualitative and Quantitative Biochemical Model Learning Framework Using Evolutionary Strategy and Simulated Annealing</h1></div><ul class=\"AuthorNames\"><li><span class=\"AuthorName_container\"><span class=\"AuthorName\">Zujian&nbsp;Wu</span><span class=\"AuthorNames_popup flyout\"><span class=\"AuthorNames_details flyout-content flyout--arrowTopLeft\"><span class=\"AuthorsName_affiliation\"><strong>Affiliated with</strong><span>College of Information Science and Technology, Jinan University</span></span></span></span></span><span class=\"EqualContributionSymbol\">&nbsp;</span></li><li><span>, </span><span class=\"AuthorName_container\"><span class=\"AuthorName\">Wei&nbsp;Pang</span><span class=\"AuthorNames_popup flyout\"><span class=\"AuthorNames_details flyout-content flyout--arrowTopLeft\"><span class=\"AuthorsName_affiliation\"><strong>Affiliated with</strong><span>School of Natural and Computing Sciences, University of Aberdeen</span></span><a href=\"mailto:pang.wei@abdn.ac.uk\"><span class=\"ContactIcon\">&nbsp;</span><span>Email author</span></a></span></span></span><span class=\"EqualContributionSymbol\">&nbsp;</span><a href=\"mailto:pang.wei@abdn.ac.uk\"><span class=\"ContactIcon\">&nbsp;</span></a></li><li><span>, </span><span class=\"AuthorName_container\"><span class=\"AuthorName\">George&nbsp;M.&nbsp;Coghill</span><span class=\"AuthorNames_popup flyout\"><span class=\"AuthorNames_details flyout-content flyout--arrowTopLeft\"><span class=\"AuthorsName_affiliation\"><strong>Affiliated with</strong><span>School of Natural and Computing Sciences, University of Aberdeen</span></span></span></span></span></li></ul></div>\\n    <div id=\"abstract-actions\"><span class=\"action icon-download icon-epub\">\\n      <a id=\"abstract-actions-download-article-pdf-link\" class=\"webtrekk-track pdf-link\" doi=\"10.1007/s12559-015-9328-x\" parentDoi=\"12559\" pageType=\"rd_springer_com.journal.article_pdf\" parentContentType=\"Journal\" contentType=\"Article\" viewType=\"Article pdf download\" publication=\"12559 | Cognitive Computation\" href=\"/content/pdf/10.1007%2Fs12559-015-9328-x.pdf\">\\n        Download PDF\\n        <span id=\"action-bar-download-pdf-size\">\\n          (881 KB)\\n        </span>\\n      </a>\\n    </span>\\n\\n    <hr/>\\n    <span class=\"action icon-view\">\\n      <a id=\"abstract-actions-full-text-link\" class=\"webtrekk-track fulltext\" href=\"/article/10.1007/s12559-015-9328-x/fulltext.html\" pageType=\"rd_springer_com.journal.article_full_text\" publication=\"12559 | Cognitive Computation\" doi=\"10.1007/s12559-015-9328-x\" parentContentType=\"Journal\" contentType=\"Article\" itemprop=\"url\" viewType=\"Full text download\">\\n        View Article\\n      </a>\\n    </span>\\n\\n    </div>        <!DOCTYPE html\\n              SYSTEM \"about:legacy-compat\">\\n            <div xmlns=\"http://www.w3.org/1999/xhtml\" xmlns:meta=\"http://www.springer.com/app/meta\" xmlns:epub=\"http://www.idpf.org/2007/ops\"><section class=\"Abstract\" id=\"Abs1\" lang=\"en\">\\n                          <h2 class=\"Heading\">Abstract</h2>\\n                          <p id=\"Par1\" class=\"Para\">Both qualitative and quantitative model learning frameworks for biochemical systems have been studied in computational systems biology. In this research, after introducing two forms of pre-defined component patterns to represent biochemical models, we propose an integrative qualitative and quantitative modelling framework for inferring biochemical systems. In the proposed framework, interactions between reactants in the candidate models for a target biochemical system are evolved and eventually identified by the application of a qualitative model learning approach with an evolution strategy. Kinetic rates of the models generated from qualitative model learning are then further optimised by employing a quantitative approach with simulated annealing. Experimental results indicate that our proposed integrative framework is feasible to learn the relationships between biochemical reactants qualitatively and to make the model replicate the behaviours of the target system by optimising the kinetic rates quantitatively. Moreover, potential reactants of a target biochemical system can be discovered by hypothesising complex reactants in the synthetic models. Based on the biochemical models learned from the proposed framework, biologists can further perform experimental study in wet laboratory. In this way, natural biochemical systems can be better understood.</p>\\n                        </section><div class=\"KeywordGroup\" lang=\"en\">\\n                          <h3 class=\"Heading\">Keywords</h3>\\n                          <span class=\"Keyword\">Evolutionary algorithms</span>\\n                          <span class=\"Keyword\">Heuristic algorithms</span>\\n                          <span class=\"Keyword\">Qualitative model learning</span>\\n                          <span class=\"Keyword\">Quantitative model learning</span>\\n                          <span class=\"Keyword\">Systems biology</span>\\n                        </div><aside class=\"ArticleNote ArticleNoteMisc\"><p class=\"SimplePara\">Zujian Wu and Wei Pang have contributed equally to this work.</p></aside></div>\\n          </div>\\n          <div id=\"kb-nav--aside\" class=\"col-aside\" role=\"complementary\">\\n            <div class=\"cover\">\\n      <div class=\"look-inside cover-image-animate\">\\n        <div id=\"reader-overlay\">\\n      <div id=\"reader-page-template\">\\n        <div id=\"page-%P\">\\n          <div class=\"page-number\">\\n            Page\\n            %P\\n          </div>\\n          <div class=\"pdf-page\" id=\"page-img-container-%ID\">\\n            <img id=\"pdf-page-image-%ID\" class=\"pdf-image\" src=\"/static/1.962/images/pdf-preview/spacer.gif\" alt=\"Loading...\" width=\"%W\" style=\"width:%Wpx;\" data-loaded=\"false\"/>\\n          </div>\\n        </div>\\n      </div>\\n      <div class=\"reader-position\">\\n        <div id=\"reader\">\\n          <div id=\"reader-buttons\">\\n            <a href=\"#close\" id=\"pdf-close\" class=\"btn btn-close right\">\\n              Close\\n            </a>\\n            <a href=\"#close\" id=\"toggletext\" class=\"btn\" title=\"Toggle plain text\">\\n              Plain text\\n            </a>\\n          </div>\\n          <div id=\"viewer\" class=\"show-pdf\">\\n            <div id=\"scroller\"></div>\\n          </div>\\n          <div class=\"top-shadow\"></div>\\n          <div class=\"bottom-shadow\"></div>\\n        </div>\\n      </div>\\n    </div>\\n\\n        <a class=\"webtrekk-track lookinside-href\" href=\"/article/10.1007%2Fs12559-015-9328-x/lookinside/000.png\" pageType=\"rd_springer_com.journal.article_lookinside_download\" parentContentType=\"Journal\" contentType=\"Article\" doi=\"10.1007/s12559-015-9328-x\" viewType=\"LookInside download\" publication=\"12559 | Cognitive Computation\">\\n          <img class=\"look-inside-cover\" src=\"http://static-content.springer.com/cover/journal/12559/7/6.jpg\" alt=\"Cognitive Computation\" width=\"153\" itemprop=\"image\"/>\\n    <img class=\"look-inside-page\" src=\"http://static-content.springer.com/lookinside/art%3A10.1007%2Fs12559-015-9328-x/000.png\" alt=\"Cognitive Computation\" width=\"153\" itemprop=\"image\"/>\\n\\n          <span class=\"look-inside-badge\">\\n            Look\\n            <br/>\\n            Inside\\n          </span>\\n        </a>\\n      </div>\\n    </div>\\n\\n    <div id=\"article-metrics-wrapper\">\\n    </div>\\n            <div id=\"copublisher-container\" data-url=\"http://copublishers.live.cf.public.springer.com/?id=1866-9964&amp;id=1866-9956\"></div>\\n\\n            <div class=\"SideBox section-links\">\\n    </div>\\n\\n            <div class=\"SideBox other-actions\">\\n      <h2 class=\"SideBox_title\">Reference tools</h2>\\n      <ul>\\n        <li>\\n          <a id=\"export-citation\" href=\"/export-citation/article/10.1007/s12559-015-9328-x\">\\n      Export citation\\n    </a>\\n\\n        </li>\\n        <li>\\n          <a id=\"papers-link\" class=\"external webtrekk-track\" href=\"http://redirect.papersapp.com/redirect?url=http://link.springer.com/article/10.1007%2Fs12559-015-9328-x\" target=\"_blank\" title=\"It opens in new window\" gaCategory=\"Export\" publication=\"10.1007/s12559-015-9328-x | An Integrated Qualitative and Quantitative Biochemical Model Learning Framework Using Evolutionary Strategy and Simulated Annealing\" viewType=\"Add to Papers\">Add to Papers</a>\\n\\n        </li>\\n      </ul>\\n    </div>\\n    <div class=\"SideBox other-actions\">\\n      <h2 class=\"SideBox_title\">Other actions</h2>\\n      <ul>\\n        <li>\\n          <a id=\"toc-alerting-link\" class=\"external\" href=\"http://www.springer.com/journal/12559/about\" target=\"_blank\" title=\"It opens in new window\">Register for Journal Updates</a>\\n\\n        </li>\\n        <li>\\n          <a id=\"about-link\" class=\"external\" href=\"http://www.springer.com/journal/12559/about\" target=\"_blank\" title=\"It opens in new window\">\\n      About This Journal\\n    </a>\\n\\n        </li>\\n        <li>\\n          <a id=\"permissions-link\" class=\"external\" href=\"https://s100.copyright.com/AppDispatchServlet?publisherName=Springer&amp;orderBeanReset=true&amp;orderSource=SpringerLink&amp;author=Zujian+Wu&amp;AuthorEmail=zujian.wu%40jnu.edu.cn&amp;licenseType=CC+BY&amp;issueNum=6&amp;contentID=10.1007%2Fs12559-015-9328-x&amp;openAccess=true&amp;endPage=651&amp;publicationDate=2015&amp;startPage=637&amp;volumeNum=7&amp;title=An+Integrated+Qualitative+and+Quantitative+Biochemical+Model+Learning+Framework+Using+Evolutionary+Strategy+and+Simulated+Annealing&amp;imprint=The+Author%28s%29&amp;publication=1866-9956&amp;authorAddress=Guangzhou%2C+510632%2C+Guangdong%2C+People%E2%80%99s+Republic+of+China\" target=\"_blank\" title=\"It opens in new window\">Reprints and Permissions</a>\\n\\n        </li>\\n      </ul>\\n    </div>\\n\\n            <div class=\"SideBox other-actions share\">\\n      <h2 class=\"SideBox_title\">Share</h2>\\n      <a id=\"facebook\" href=\"javascript:void(0)\" title=\"Share this content on Facebook\">Share this content on Facebook</a>\\n      <a id=\"twitter\" href=\"javascript:void(0)\" title=\"Share this content on Twitter\">Share this content on Twitter</a>\\n      <a id=\"linkedin\" href=\"javascript:void(0)\" title=\"Share this content on LinkedIn\">Share this content on LinkedIn</a>\\n    </div>\\n\\n          </div>\\n        </div>\\n        <div id=\"kb-nav--aside\" class=\"document-aside\" role=\"complementary\">\\n          <input id=\"relatedItemsSource\" type=\"hidden\" value=\"unsilo\"/>\\n    <div id=\"abstract-related\" class=\"hidden expander\">\\n      <div class=\"expander-title\">\\n        <div class=\"heading\">\\n          <button>\\n            <h2>Related Content</h2>\\n            <img class=\"hidden\" src=\"/static/1.962/sites/link/images/loading_expander.gif\" alt=\"loading...\"/>\\n          </button>\\n        </div>\\n      </div>\\n      <div class=\"expander-content\">\\n        <div id=\"unsilo-wrapper\" class=\"expander-content-inner\">\\n          <div id=\"unsilo-related-list\" doi=\"10.1007/s12559-015-9328-x\" apiVersion=\"2.7\" contentVersion=\"v4\"></div>\\n          <div id=\"unsilo-related-map\"></div>\\n        </div>\\n      </div>\\n    </div>\\n\\n          <div id=\"abstract-esm\" class=\"expander expander-empty\">\\n      <div class=\"expander-title\">\\n        <div class=\"heading\">\\n          <h2><button>Supplementary Material (0)</button></h2>\\n        </div>\\n      </div>\\n      </div>\\n\\n          <div id=\"abstract-references\" class=\"expander\">\\n      <div class=\"expander-title\">\\n        <div class=\"heading\">\\n           <h2><button>References (72)</button></h2>\\n        </div>\\n      </div>\\n      <div class=\"expander-content\">\\n        <div class=\"expander-content-inner\">\\n          <div class=\"formatted\">\\n            <!DOCTYPE html\\n      SYSTEM \"about:legacy-compat\">\\n    <div xmlns=\"http://www.w3.org/1999/xhtml\" xmlns:meta=\"http://www.springer.com/app/meta\" xmlns:epub=\"http://www.idpf.org/2007/ops\" class=\"FulltextWrapper\"><aside class=\"Bibliography\" id=\"Bib1\"><h3 class=\"Heading\">References</h3><ol class=\"BibliographyWrapper\"><li class=\"Citation\"><div class=\"CitationNumber\">1.</div><div class=\"CitationContent\" id=\"CR1\">Akman OE, Watterson S, Parton A, Binns N, Millar AJ, Ghazal P. Digital clocks: simple boolean models can quantitatively describe circadian systems. J R Soc Interface. 2012;9(74):2365\\xe2\\x80\\x9382.<span class=\"Occurrences\"><span class=\"Occurrence OccurrencePMCID\"><a href=\"http://www.ncbi.nlm.nih.gov/pmc/articles/PMC3405750\"><span><span>PubMedCentral</span></span></a></span><span class=\"Occurrence OccurrenceDOI\"><a href=\"http://dx.doi.org/10.1098/rsif.2012.0080\"><span><span>CrossRef</span></span></a></span><span class=\"Occurrence OccurrencePID\"><a href=\"http://www.ncbi.nlm.nih.gov/entrez/query.fcgi?cmd=Retrieve&amp;db=PubMed&amp;dopt=Abstract&amp;list_uids=22499125\"><span><span>PubMed</span></span></a></span></span></div></li><li class=\"Citation\"><div class=\"CitationNumber\">2.</div><div class=\"CitationContent\" id=\"CR2\">Anily S, Federgruen A. Simulated annealing methods with general acceptance probabilities. J Appl Probab. 1987;24(3):657\\xe2\\x80\\x9367.<span class=\"Occurrences\"><span class=\"Occurrence OccurrenceDOI\"><a href=\"http://dx.doi.org/10.2307/3214097\"><span><span>CrossRef</span></span></a></span></span></div></li><li class=\"Citation\"><div class=\"CitationNumber\">3.</div><div class=\"CitationContent\" id=\"CR3\">Baldan P, Cocco N, Marin A, Simeoni M. Petri nets for modelling metabolic pathways: a survey. Nat Comput. 2010;9(4):955\\xe2\\x80\\x9389.<span class=\"Occurrences\"><span class=\"Occurrence OccurrenceDOI\"><a href=\"http://dx.doi.org/10.1007/s11047-010-9180-6\"><span><span>CrossRef</span></span></a></span></span></div></li><li class=\"Citation\"><div class=\"CitationNumber\">4.</div><div class=\"CitationContent\" id=\"CR4\">Baldan P, Cocco N, Marin A, Simeoni M. Petri nets for modelling metabolic pathways: a survey. Nat Comput. 2010;9:955\\xe2\\x80\\x9389.<span class=\"Occurrences\"><span class=\"Occurrence OccurrenceDOI\"><a href=\"http://dx.doi.org/10.1007/s11047-010-9180-6\"><span><span>CrossRef</span></span></a></span></span></div></li><li class=\"Citation\"><div class=\"CitationNumber\">5.</div><div class=\"CitationContent\" id=\"CR5\">Beyer H, Schwefel H. Evolution strategies: a comprehensive introduction. Nat Comput. 2002;1(1):3\\xe2\\x80\\x9352.<span class=\"Occurrences\"><span class=\"Occurrence OccurrenceDOI\"><a href=\"http://dx.doi.org/10.1023/A%3A1015059928466\"><span><span>CrossRef</span></span></a></span></span></div></li><li class=\"Citation\"><div class=\"CitationNumber\">6.</div><div class=\"CitationContent\" id=\"CR6\">Breitling R, Gilbert D, Heiner M, Orton R. A structured approach for the engineering of biochemical network models, illustrated for signalling pathways. Brief Bioinform. 2008;9(5):404\\xe2\\x80\\x9321.<span class=\"Occurrences\"><span class=\"Occurrence OccurrenceDOI\"><a href=\"http://dx.doi.org/10.1093/bib/bbn026\"><span><span>CrossRef</span></span></a></span><span class=\"Occurrence OccurrencePID\"><a href=\"http://www.ncbi.nlm.nih.gov/entrez/query.fcgi?cmd=Retrieve&amp;db=PubMed&amp;dopt=Abstract&amp;list_uids=18573813\"><span><span>PubMed</span></span></a></span></span></div></li><li class=\"Citation\"><div class=\"CitationNumber\">7.</div><div class=\"CitationContent\" id=\"CR7\">Brim L, \\xc4\\x8ce\\xc5\\xa1ka M, Dra\\xc5\\xbean S, \\xc5\\xa0afr\\xc3\\xa1nek D. Exploring parameter space of stochastic biochemical systems using quantitative model checking. In: Sharygina N, Veith H, editors. Computer aided verification, of lecture notes in computer science, vol. 8044. Berlin: Springer; 2013. p. 107\\xe2\\x80\\x9323.<span class=\"Occurrences\"><span class=\"Occurrence OccurrenceDOI\"><a href=\"http://dx.doi.org/10.1007/978-3-642-39799-8_7\"><span><span>CrossRef</span></span></a></span></span></div></li><li class=\"Citation\"><div class=\"CitationNumber\">8.</div><div class=\"CitationContent\" id=\"CR8\">Bruce AM, Coghill GM. Parallel fuzzy qualitative reasoning. In: Rinner B, Hofbaur M, Wotowa F, editors. 19th International Workshop on Qualitative Reasoning. 2005. p. 110\\xe2\\x80\\x93116.</div></li><li class=\"Citation\"><div class=\"CitationNumber\">9.</div><div class=\"CitationContent\" id=\"CR9\">Calder M, Gilmore S, Hillston J. Modelling the influence of RKIP on the ERK signalling pathway using the stochastic process algebra PEPA. In: Transactions on computational systems biology, vol. 4230. New York: Springer; 2004. p. 1\\xe2\\x80\\x9323.</div></li><li class=\"Citation\"><div class=\"CitationNumber\">10.</div><div class=\"CitationContent\" id=\"CR10\">Cem AC. Say and S. Kuru. Qualitative system identification: deriving structure from behavior. Artificial Intell. 1996;83(1):75\\xe2\\x80\\x93141.<span class=\"Occurrences\"><span class=\"Occurrence OccurrenceDOI\"><a href=\"http://dx.doi.org/10.1016/0004-3702(95)00016-X\"><span><span>CrossRef</span></span></a></span></span></div></li><li class=\"Citation\"><div class=\"CitationNumber\">11.</div><div class=\"CitationContent\" id=\"CR11\">Chaouiya C. Petri net modelling of biological networks. Brief Bioinform. 2007;8(4):210\\xe2\\x80\\x939.<span class=\"Occurrences\"><span class=\"Occurrence OccurrenceDOI\"><a href=\"http://dx.doi.org/10.1093/bib/bbm029\"><span><span>CrossRef</span></span></a></span><span class=\"Occurrence OccurrencePID\"><a href=\"http://www.ncbi.nlm.nih.gov/entrez/query.fcgi?cmd=Retrieve&amp;db=PubMed&amp;dopt=Abstract&amp;list_uids=17626066\"><span><span>PubMed</span></span></a></span></span></div></li><li class=\"Citation\"><div class=\"CitationNumber\">12.</div><div class=\"CitationContent\" id=\"CR12\">Chelliah V, Juty N, Ajmera I, Ali R, Dumousseau M, Glont M, Hucka M, Jalowicki G, Keating S, Knight-Schrijver V, Lloret-Villas A, Natarajan KN, Pettit JB, Rodriguez N, Schubert M, Wimalaratne SM, Zhao Y, Hermjakob H, Le Novre N, Laibe C. Biomodels: ten-year anniversary. Nucleic Acids Res. 2014;43(D1):D542\\xe2\\x80\\x938.<span class=\"Occurrences\"><span class=\"Occurrence OccurrencePMCID\"><a href=\"http://www.ncbi.nlm.nih.gov/pmc/articles/PMC4383975\"><span><span>PubMedCentral</span></span></a></span><span class=\"Occurrence OccurrenceDOI\"><a href=\"http://dx.doi.org/10.1093/nar/gku1181\"><span><span>CrossRef</span></span></a></span><span class=\"Occurrence OccurrencePID\"><a href=\"http://www.ncbi.nlm.nih.gov/entrez/query.fcgi?cmd=Retrieve&amp;db=PubMed&amp;dopt=Abstract&amp;list_uids=25414348\"><span><span>PubMed</span></span></a></span></span></div></li><li class=\"Citation\"><div class=\"CitationNumber\">13.</div><div class=\"CitationContent\" id=\"CR13\">Cho KH, Shin SY, Kim HW, Wolkenhauer O, Mcferran B, Kolch W. Mathematical modeling of the influence of RKIP on the ERK signaling pathway. In: Priami C, editor. Computational methods in systems biology (CSMB\\xe2\\x80\\x9903) of LNCS, vol. 2602. New York: Springer; 2003. p. 127\\xe2\\x80\\x9341.<span class=\"Occurrences\"><span class=\"Occurrence OccurrenceDOI\"><a href=\"http://dx.doi.org/10.1007/3-540-36481-1_11\"><span><span>CrossRef</span></span></a></span></span></div></li><li class=\"Citation\"><div class=\"CitationNumber\">14.</div><div class=\"CitationContent\" id=\"CR14\">Coghill GM, Chantler MJ. Mycroft: a framework for qualitative reasoning. In: Second international conference on intelligent systems engineering. 1994. p. 43\\xe2\\x80\\x9348.</div></li><li class=\"Citation\"><div class=\"CitationNumber\">15.</div><div class=\"CitationContent\" id=\"CR15\">Coghill GM, Garrett SM, King RD. Learning qualitative models in the presence of noise. In: Proceedings of 16th International Workshop on Qualitative Reasoning, QR\\xe2\\x80\\x9902. 2002. p. 27\\xe2\\x80\\x9336.</div></li><li class=\"Citation\"><div class=\"CitationNumber\">16.</div><div class=\"CitationContent\" id=\"CR16\">Coghill GM. Mycroft: a framework for constraint based fuzzy qualitative reasoning. Phd thesis, Heriot-Watt University, Edinburgh, 1996.</div></li><li class=\"Citation\"><div class=\"CitationNumber\">17.</div><div class=\"CitationContent\" id=\"CR17\">Coghill GM, Srinivasan A, King RD. Qualitative system identification from imperfect data. J Aritificial Intell Res. 2008;32(1):825\\xe2\\x80\\x9377.</div></li><li class=\"Citation\"><div class=\"CitationNumber\">18.</div><div class=\"CitationContent\" id=\"CR18\">Elliot WH, Elliot DC. Biochemistry and molecular biology. 2nd ed. Oxford: Oxford University Press; 2002.</div></li><li class=\"Citation\"><div class=\"CitationNumber\">19.</div><div class=\"CitationContent\" id=\"CR19\">Feng H, Shao C, Wang Z. Using qualitative description for the dynamic analysis of virus inflection. In: Wang T, Li X, Chen S, Wang X, Abbass H, Iba H, Chen G, Yao X, editors. Simulated evolution and learning, of lecture notes in computer science, vol. 4247. Berlin: Springer; 2006. p. 640\\xe2\\x80\\x937.<span class=\"Occurrences\"><span class=\"Occurrence OccurrenceDOI\"><a href=\"http://dx.doi.org/10.1007/11903697_81\"><span><span>CrossRef</span></span></a></span></span></div></li><li class=\"Citation\"><div class=\"CitationNumber\">20.</div><div class=\"CitationContent\" id=\"CR20\">Forbus KD. Qualitative reasoning. CRC Handbook of Computer Science and Engineering. 1996. p. 715\\xe2\\x80\\x93733.</div></li><li class=\"Citation\"><div class=\"CitationNumber\">21.</div><div class=\"CitationContent\" id=\"CR21\">Gilbert D, Heiner M. From petri nets to differential equations\\xe2\\x80\\x93an integrative approach for biochemical network analysis. In: Donatelli S, Thiagarajan PS, editors. Proceedings of the 27th international conference on applications and theory of petri nets and other models of concurrency\\xe2\\x80\\x93ICATPN 2006, of lecture notes in computer science, vol. 4024. Berlin: Springer; 2006. p. 181\\xe2\\x80\\x93200.<span class=\"Occurrences\"><span class=\"Occurrence OccurrenceDOI\"><a href=\"http://dx.doi.org/10.1007/11767589_11\"><span><span>CrossRef</span></span></a></span></span></div></li><li class=\"Citation\"><div class=\"CitationNumber\">22.</div><div class=\"CitationContent\" id=\"CR22\">Gormley P, Li K, Wolkenhauer O, Irwin GW, Du D. Reverse engineering of biochemical reaction networks using co-evolution with eng-genes. Cognit Comput. 2013;5(1):106\\xe2\\x80\\x9318.<span class=\"Occurrences\"><span class=\"Occurrence OccurrenceDOI\"><a href=\"http://dx.doi.org/10.1007/s12559-012-9159-y\"><span><span>CrossRef</span></span></a></span></span></div></li><li class=\"Citation\"><div class=\"CitationNumber\">23.</div><div class=\"CitationContent\" id=\"CR23\">Guerriero ML. Qualitative and quantitative analysis of a bio-pepa model of the gp130/jak/stat signalling pathway. Transactions on Computational Systems Biology XI. 2009. p. 90\\xe2\\x80\\x93115.</div></li><li class=\"Citation\"><div class=\"CitationNumber\">24.</div><div class=\"CitationContent\" id=\"CR24\">Guldberg CM, Waage P. Studies concerning affinity. C. M. Forhandlinger: Videnskabs-Selskabet i Christiana, 35 1864.</div></li><li class=\"Citation\"><div class=\"CitationNumber\">25.</div><div class=\"CitationContent\" id=\"CR25\">Habibi I, Emamian ES, Abdi A. Quantitative analysis of intracellular communication and signaling errors in signaling networks. BMC Syst Biol. 2014;8:89.<span class=\"Occurrences\"><span class=\"Occurrence OccurrencePMCID\"><a href=\"http://www.ncbi.nlm.nih.gov/pmc/articles/PMC4255782\"><span><span>PubMedCentral</span></span></a></span><span class=\"Occurrence OccurrenceDOI\"><a href=\"http://dx.doi.org/10.1186/s12918-014-0089-z\"><span><span>CrossRef</span></span></a></span><span class=\"Occurrence OccurrencePID\"><a href=\"http://www.ncbi.nlm.nih.gov/entrez/query.fcgi?cmd=Retrieve&amp;db=PubMed&amp;dopt=Abstract&amp;list_uids=25115405\"><span><span>PubMed</span></span></a></span></span></div></li><li class=\"Citation\"><div class=\"CitationNumber\">26.</div><div class=\"CitationContent\" id=\"CR26\">Hau DT, Coiera EW. Learning qualitative models of dynamic systems. Mach Learn. 1993;26:177\\xe2\\x80\\x93211.<span class=\"Occurrences\"><span class=\"Occurrence OccurrenceDOI\"><a href=\"http://dx.doi.org/10.1023/A%3A1007317323969\"><span><span>CrossRef</span></span></a></span></span></div></li><li class=\"Citation\"><div class=\"CitationNumber\">27.</div><div class=\"CitationContent\" id=\"CR27\">Heiner M, Herajy M, Liu F, Rohr C, Schwarick M. Snoopy\\xe2\\x80\\x94a unifying petri net tool. In: Haddad S, Pomello L, editors. Application and theory of petri nets, of lecture notes in computer science, vol. 7347. Berlin: Springer; 2012. p. 398\\xe2\\x80\\x93407.</div></li><li class=\"Citation\"><div class=\"CitationNumber\">28.</div><div class=\"CitationContent\" id=\"CR28\">Hinton A, Kwiatkowska M, Norman G, Parker D. Prism: a tool for automatic verification of probabilistic systems. In: Hermanns H, Palsberg J, editors. Tools and algorithms for the construction and analysis of systems, of lecture notes in computer science, vol. 3920. Berlin: Springer; 2006. p. 441\\xe2\\x80\\x934.<span class=\"Occurrences\"><span class=\"Occurrence OccurrenceDOI\"><a href=\"http://dx.doi.org/10.1007/11691372_29\"><span><span>CrossRef</span></span></a></span></span></div></li><li class=\"Citation\"><div class=\"CitationNumber\">29.</div><div class=\"CitationContent\" id=\"CR29\">Kholodenko BN, Kiyatkin A, Bruggeman FJ, Sontag E, Westerhoff HV, Hoek JB. Untangling the wires: a strategy to trace functional interactions in signaling and gene networks. Proc Natl Acad Sci. 2002;99(20):12841\\xe2\\x80\\x936.<span class=\"Occurrences\"><span class=\"Occurrence OccurrencePMCID\"><a href=\"http://www.ncbi.nlm.nih.gov/pmc/articles/PMC130547\"><span><span>PubMedCentral</span></span></a></span><span class=\"Occurrence OccurrenceDOI\"><a href=\"http://dx.doi.org/10.1073/pnas.192442699\"><span><span>CrossRef</span></span></a></span><span class=\"Occurrence OccurrencePID\"><a href=\"http://www.ncbi.nlm.nih.gov/entrez/query.fcgi?cmd=Retrieve&amp;db=PubMed&amp;dopt=Abstract&amp;list_uids=12242336\"><span><span>PubMed</span></span></a></span></span></div></li><li class=\"Citation\"><div class=\"CitationNumber\">30.</div><div class=\"CitationContent\" id=\"CR30\">King RD, Garrett SM, Coghill GM. On the use of qualitative reasoning to simulate and identify metabolic pathways. Bioinformatics. 2005;21(9):2017\\xe2\\x80\\x9326.<span class=\"Occurrences\"><span class=\"Occurrence OccurrenceDOI\"><a href=\"http://dx.doi.org/10.1093/bioinformatics/bti255\"><span><span>CrossRef</span></span></a></span><span class=\"Occurrence OccurrencePID\"><a href=\"http://www.ncbi.nlm.nih.gov/entrez/query.fcgi?cmd=Retrieve&amp;db=PubMed&amp;dopt=Abstract&amp;list_uids=15647297\"><span><span>PubMed</span></span></a></span></span></div></li><li class=\"Citation\"><div class=\"CitationNumber\">31.</div><div class=\"CitationContent\" id=\"CR31\">Kirkpatrick S, Gelatt CD, Vecchi MP. Optimization by simulated annealing. Science. 1983;220(4598):671\\xe2\\x80\\x9380.<span class=\"Occurrences\"><span class=\"Occurrence OccurrenceDOI\"><a href=\"http://dx.doi.org/10.1126/science.220.4598.671\"><span><span>CrossRef</span></span></a></span><span class=\"Occurrence OccurrencePID\"><a href=\"http://www.ncbi.nlm.nih.gov/entrez/query.fcgi?cmd=Retrieve&amp;db=PubMed&amp;dopt=Abstract&amp;list_uids=17813860\"><span><span>PubMed</span></span></a></span></span></div></li><li class=\"Citation\"><div class=\"CitationNumber\">32.</div><div class=\"CitationContent\" id=\"CR32\">Kremling A, Fischer S, Gadkar K, Doyle FJ, Sauter T, Bullinger E, Allg\\xc3\\xb6wer F, Gilles ED. A benchmark for methods in reverse engineering and model discrimination: problem formulation and solutions. Genome Res. 2004;14(9):1773\\xe2\\x80\\x9385.<span class=\"Occurrences\"><span class=\"Occurrence OccurrencePMCID\"><a href=\"http://www.ncbi.nlm.nih.gov/pmc/articles/PMC515324\"><span><span>PubMedCentral</span></span></a></span><span class=\"Occurrence OccurrenceDOI\"><a href=\"http://dx.doi.org/10.1101/gr.1226004\"><span><span>CrossRef</span></span></a></span><span class=\"Occurrence OccurrencePID\"><a href=\"http://www.ncbi.nlm.nih.gov/entrez/query.fcgi?cmd=Retrieve&amp;db=PubMed&amp;dopt=Abstract&amp;list_uids=15342560\"><span><span>PubMed</span></span></a></span></span></div></li><li class=\"Citation\"><div class=\"CitationNumber\">33.</div><div class=\"CitationContent\" id=\"CR33\">Kuipers B. Qualitative simulation. Artificial Intell. 1986;29:289\\xe2\\x80\\x93338.<span class=\"Occurrences\"><span class=\"Occurrence OccurrenceDOI\"><a href=\"http://dx.doi.org/10.1016/0004-3702(86)90073-1\"><span><span>CrossRef</span></span></a></span></span></div></li><li class=\"Citation\"><div class=\"CitationNumber\">34.</div><div class=\"CitationContent\" id=\"CR34\">Kuipers B. Qualitative simulation: then and now. Artificial Intell. 1993;59(1\\xe2\\x80\\x932):133\\xe2\\x80\\x9340.<span class=\"Occurrences\"><span class=\"Occurrence OccurrenceDOI\"><a href=\"http://dx.doi.org/10.1016/0004-3702(93)90179-F\"><span><span>CrossRef</span></span></a></span></span></div></li><li class=\"Citation\"><div class=\"CitationNumber\">35.</div><div class=\"CitationContent\" id=\"CR35\">Kuipers B. Qualitative reasoning: modeling and simulation with incomplete knowledge. Cambridge: The MIT Press; 1994.</div></li><li class=\"Citation\"><div class=\"CitationNumber\">36.</div><div class=\"CitationContent\" id=\"CR36\">Lee D, Yun C, Cho A, Hou BK, Park S, Lee SY. Webcell: a web-based environment for kinetic modeling and dynamic simulation of cellular networks. Bioinformatics. 2006;22(9):1150\\xe2\\x80\\x931.<span class=\"Occurrences\"><span class=\"Occurrence OccurrenceDOI\"><a href=\"http://dx.doi.org/10.1093/bioinformatics/btl091\"><span><span>CrossRef</span></span></a></span><span class=\"Occurrence OccurrencePID\"><a href=\"http://www.ncbi.nlm.nih.gov/entrez/query.fcgi?cmd=Retrieve&amp;db=PubMed&amp;dopt=Abstract&amp;list_uids=16543278\"><span><span>PubMed</span></span></a></span></span></div></li><li class=\"Citation\"><div class=\"CitationNumber\">37.</div><div class=\"CitationContent\" id=\"CR37\">Ljung L. System identification: theory for the user. New York: Pearson Education; 1998.<span class=\"Occurrences\"><span class=\"Occurrence OccurrenceDOI\"><a href=\"http://dx.doi.org/10.1007/978-1-4612-1768-8_11\"><span><span>CrossRef</span></span></a></span></span></div></li><li class=\"Citation\"><div class=\"CitationNumber\">38.</div><div class=\"CitationContent\" id=\"CR38\">Marwan W, Wagler A, Weismantel R. Petri nets as a framework for the reconstruction and analysis of signal transduction pathways and regulatory networks. Nat Comput. 2011;10(2):639\\xe2\\x80\\x9354.<span class=\"Occurrences\"><span class=\"Occurrence OccurrenceDOI\"><a href=\"http://dx.doi.org/10.1007/s11047-009-9152-x\"><span><span>CrossRef</span></span></a></span></span></div></li><li class=\"Citation\"><div class=\"CitationNumber\">39.</div><div class=\"CitationContent\" id=\"CR39\">Matsuno H, Li C, Miyano S. Petri net based descriptions for systematic understanding of biological pathways. IEICE Trans Fundam Electron Commun Comput Sci website. 2006;E89\\xe2\\x80\\x93A:3166\\xe2\\x80\\x9374.<span class=\"Occurrences\"><span class=\"Occurrence OccurrenceDOI\"><a href=\"http://dx.doi.org/10.1093/ietfec/e89-a.11.3166\"><span><span>CrossRef</span></span></a></span></span></div></li><li class=\"Citation\"><div class=\"CitationNumber\">40.</div><div class=\"CitationContent\" id=\"CR40\">Metropolis N, Rosenbluth AW, Rosenbluth MN, Teller AH, Teller E. Equation of state calculations by fast computing machines. J Chem Phys. 1953;21(6):1087\\xe2\\x80\\x9392.<span class=\"Occurrences\"><span class=\"Occurrence OccurrenceDOI\"><a href=\"http://dx.doi.org/10.1063/1.1699114\"><span><span>CrossRef</span></span></a></span></span></div></li><li class=\"Citation\"><div class=\"CitationNumber\">41.</div><div class=\"CitationContent\" id=\"CR41\">Michaelis L, Menten ML. Die kinetik der invertinwirkung. Biochem Z. 1913;49:333\\xe2\\x80\\x9369.</div></li><li class=\"Citation\"><div class=\"CitationNumber\">42.</div><div class=\"CitationContent\" id=\"CR42\">Milazzo P. Qualitative and quantitative formal modeling of biological systems. PhD thesis. April 2007.</div></li><li class=\"Citation\"><div class=\"CitationNumber\">43.</div><div class=\"CitationContent\" id=\"CR43\">Moles CG, Mendes P, Banga JR. Parameter estimation in biochemical pathways: a comparison of global optimization methods. Genome Res. 2003;11:2467\\xe2\\x80\\x9374.<span class=\"Occurrences\"><span class=\"Occurrence OccurrenceDOI\"><a href=\"http://dx.doi.org/10.1101/gr.1262503\"><span><span>CrossRef</span></span></a></span></span></div></li><li class=\"Citation\"><div class=\"CitationNumber\">44.</div><div class=\"CitationContent\" id=\"CR44\">Murata T. Petri nets: properties, analysis and applications. Proc IEEE. 1989;77(4):541\\xe2\\x80\\x9380.<span class=\"Occurrences\"><span class=\"Occurrence OccurrenceDOI\"><a href=\"http://dx.doi.org/10.1109/5.24143\"><span><span>CrossRef</span></span></a></span></span></div></li><li class=\"Citation\"><div class=\"CitationNumber\">45.</div><div class=\"CitationContent\" id=\"CR45\">Napione L, Manini D, Cordero F, Horvth A, Picco A, De Pierro M, Pavan S, Sereno M, Veglio A, Bussolino F, Balbo G. On the use of stochastic petri nets in the analysis of signal transduction pathways for angiogenesis process. In: Degano P, Gorrieri R, editors. Computational methods in systems biology, of lecture notes in computer science, vol. 5688. Berlin: Springer; 2009. p. 281\\xe2\\x80\\x9395.<span class=\"Occurrences\"><span class=\"Occurrence OccurrenceDOI\"><a href=\"http://dx.doi.org/10.1007/978-3-642-03845-7_19\"><span><span>CrossRef</span></span></a></span></span></div></li><li class=\"Citation\"><div class=\"CitationNumber\">46.</div><div class=\"CitationContent\" id=\"CR46\">Nobakhti A. On natural based optimization. Cognit Comput. 2010;2(2):97\\xe2\\x80\\x93119.<span class=\"Occurrences\"><span class=\"Occurrence OccurrenceDOI\"><a href=\"http://dx.doi.org/10.1007/s12559-010-9039-2\"><span><span>CrossRef</span></span></a></span></span></div></li><li class=\"Citation\"><div class=\"CitationNumber\">47.</div><div class=\"CitationContent\" id=\"CR47\">Pang W. QML-morven: a framework for learning qualitative models. Aberdeen: Aberdeen University; 2009.</div></li><li class=\"Citation\"><div class=\"CitationNumber\">48.</div><div class=\"CitationContent\" id=\"CR48\">Pang W, Coghill GM. Learning qualitative differential equation models: a survey of algorithms and applications. Knowl Eng Rev. 2010;25:69\\xe2\\x80\\x93107.<span class=\"Occurrences\"><span class=\"Occurrence OccurrencePMCID\"><a href=\"http://www.ncbi.nlm.nih.gov/pmc/articles/PMC3659653\"><span><span>PubMedCentral</span></span></a></span><span class=\"Occurrence OccurrenceDOI\"><a href=\"http://dx.doi.org/10.1017/S0269888909990348\"><span><span>CrossRef</span></span></a></span><span class=\"Occurrence OccurrencePID\"><a href=\"http://www.ncbi.nlm.nih.gov/entrez/query.fcgi?cmd=Retrieve&amp;db=PubMed&amp;dopt=Abstract&amp;list_uids=23704803\"><span><span>PubMed</span></span></a></span></span></div></li><li class=\"Citation\"><div class=\"CitationNumber\">49.</div><div class=\"CitationContent\" id=\"CR49\">Pang W, Coghill GM. An immune-inspired approach to qualitative system identification of biological pathways. Nat Comput. 2011;10(1):189\\xe2\\x80\\x93207.<span class=\"Occurrences\"><span class=\"Occurrence OccurrenceDOI\"><a href=\"http://dx.doi.org/10.1007/s11047-010-9212-2\"><span><span>CrossRef</span></span></a></span></span></div></li><li class=\"Citation\"><div class=\"CitationNumber\">50.</div><div class=\"CitationContent\" id=\"CR50\">Pang W, Coghill GM. Qml-morven: a novel framework for learning qualitative differential equation models using both symbolic and evolutionary approaches. J Comput Sci. 2014;5(5):795\\xe2\\x80\\x93808.<span class=\"Occurrences\"><span class=\"Occurrence OccurrenceDOI\"><a href=\"http://dx.doi.org/10.1016/j.jocs.2014.06.002\"><span><span>CrossRef</span></span></a></span></span></div></li><li class=\"Citation\"><div class=\"CitationNumber\">51.</div><div class=\"CitationContent\" id=\"CR51\">Pang W, Coghill GM. Qml-ainet: an immune network approach to learning qualitative differential equation models. Appl Soft Comput. 2015;27:148\\xe2\\x80\\x9357.<span class=\"Occurrences\"><span class=\"Occurrence OccurrencePMCID\"><a href=\"http://www.ncbi.nlm.nih.gov/pmc/articles/PMC4308000\"><span><span>PubMedCentral</span></span></a></span><span class=\"Occurrence OccurrenceDOI\"><a href=\"http://dx.doi.org/10.1016/j.asoc.2014.11.008\"><span><span>CrossRef</span></span></a></span><span class=\"Occurrence OccurrencePID\"><a href=\"http://www.ncbi.nlm.nih.gov/entrez/query.fcgi?cmd=Retrieve&amp;db=PubMed&amp;dopt=Abstract&amp;list_uids=25648212\"><span><span>PubMed</span></span></a></span></span></div></li><li class=\"Citation\"><div class=\"CitationNumber\">52.</div><div class=\"CitationContent\" id=\"CR52\">Pang W, Coghill GM. An immune network approach to learning qualitative models of biological pathways. In: IEEE congress on evolutionary computation (CEC), 2014. July 2014. p. 1030\\xe2\\x80\\x931037.</div></li><li class=\"Citation\"><div class=\"CitationNumber\">53.</div><div class=\"CitationContent\" id=\"CR53\">Pang W, Coghill GM. Learning qualitative metabolic models using evolutionary methods. In: Fifth international conference on frontier of computer science and technology (FCST), 2010. Aug 2010. p. 436\\xe2\\x80\\x93441.</div></li><li class=\"Citation\"><div class=\"CitationNumber\">54.</div><div class=\"CitationContent\" id=\"CR54\">Pareto V. Manuale deconomia politica. 1906. English translation, A.M. Kelly 1971.</div></li><li class=\"Citation\"><div class=\"CitationNumber\">55.</div><div class=\"CitationContent\" id=\"CR55\">Peil J. Quantitative description and mathematical modelling of biological systems by means of nonlinear approximations demonstrated at the example of the body length growth of man. Biom J. 1979;21(1):57\\xe2\\x80\\x9370.<span class=\"Occurrences\"><span class=\"Occurrence OccurrenceDOI\"><a href=\"http://dx.doi.org/10.1002/bimj.4710210108\"><span><span>CrossRef</span></span></a></span></span></div></li><li class=\"Citation\"><div class=\"CitationNumber\">56.</div><div class=\"CitationContent\" id=\"CR56\">Peleg M, Rubin D, Altman RB. Using petri net tools to study properties and dynamics of biological systems. J Am Med Inform Assoc. 2005;12(2):181\\xe2\\x80\\x9399.<span class=\"Occurrences\"><span class=\"Occurrence OccurrencePMCID\"><a href=\"http://www.ncbi.nlm.nih.gov/pmc/articles/PMC551550\"><span><span>PubMedCentral</span></span></a></span><span class=\"Occurrence OccurrenceDOI\"><a href=\"http://dx.doi.org/10.1197/jamia.M1637\"><span><span>CrossRef</span></span></a></span><span class=\"Occurrence OccurrencePID\"><a href=\"http://www.ncbi.nlm.nih.gov/entrez/query.fcgi?cmd=Retrieve&amp;db=PubMed&amp;dopt=Abstract&amp;list_uids=15561791\"><span><span>PubMed</span></span></a></span></span></div></li><li class=\"Citation\"><div class=\"CitationNumber\">57.</div><div class=\"CitationContent\" id=\"CR57\">Qin T, Tsoi L, Sims K, Lu X, Zheng W. Signaling network prediction by the ontology fingerprint enhanced bayesian network. BMC Syst Biol. 2012;6(Suppl 3):S3.<span class=\"Occurrences\"><span class=\"Occurrence OccurrencePMCID\"><a href=\"http://www.ncbi.nlm.nih.gov/pmc/articles/PMC3524013\"><span><span>PubMedCentral</span></span></a></span><span class=\"Occurrence OccurrenceDOI\"><a href=\"http://dx.doi.org/10.1186/1752-0509-6-S3-S3\"><span><span>CrossRef</span></span></a></span><span class=\"Occurrence OccurrencePID\"><a href=\"http://www.ncbi.nlm.nih.gov/entrez/query.fcgi?cmd=Retrieve&amp;db=PubMed&amp;dopt=Abstract&amp;list_uids=23282239\"><span><span>PubMed</span></span></a></span></span></div></li><li class=\"Citation\"><div class=\"CitationNumber\">58.</div><div class=\"CitationContent\" id=\"CR58\">Reddy VN, Mavrovouniotis ML, Liebman MN. Petri net representations in metabolic pathways. In: Proceedings of the 1st international conference on intelligent systems for molecular biology. 1993. AAAI Press. p. 328\\xe2\\x80\\x93336.</div></li><li class=\"Citation\"><div class=\"CitationNumber\">59.</div><div class=\"CitationContent\" id=\"CR59\">Reddy VN, Liebman MN, Mavrovouniotis ML. Qualitative analysis of biochemical reaction systems. Comput Biol Med. 1996;26(1):9\\xe2\\x80\\x9324.<span class=\"Occurrences\"><span class=\"Occurrence OccurrenceDOI\"><a href=\"http://dx.doi.org/10.1016/0010-4825(95)00042-9\"><span><span>CrossRef</span></span></a></span><span class=\"Occurrence OccurrencePID\"><a href=\"http://www.ncbi.nlm.nih.gov/entrez/query.fcgi?cmd=Retrieve&amp;db=PubMed&amp;dopt=Abstract&amp;list_uids=8654057\"><span><span>PubMed</span></span></a></span></span></div></li><li class=\"Citation\"><div class=\"CitationNumber\">60.</div><div class=\"CitationContent\" id=\"CR60\">Richards BL, Kraan I, Kuipers BJ. Automatic abduction of qualitative models. In: Proceedings of the tenth national conference on Artificial intelligence, AAAI\\xe2\\x80\\x9992. 1992. AAAI Press. p. 723\\xe2\\x80\\x93728.</div></li><li class=\"Citation\"><div class=\"CitationNumber\">61.</div><div class=\"CitationContent\" id=\"CR61\">Samaga R, Klamt S. Modeling approaches for qualitative and semi-quantitative analysis of cellular signaling networks. Cell Commun Signal. 2013;11(1):43.<span class=\"Occurrences\"><span class=\"Occurrence OccurrencePMCID\"><a href=\"http://www.ncbi.nlm.nih.gov/pmc/articles/PMC3698152\"><span><span>PubMedCentral</span></span></a></span><span class=\"Occurrence OccurrenceDOI\"><a href=\"http://dx.doi.org/10.1186/1478-811X-11-43\"><span><span>CrossRef</span></span></a></span><span class=\"Occurrence OccurrencePID\"><a href=\"http://www.ncbi.nlm.nih.gov/entrez/query.fcgi?cmd=Retrieve&amp;db=PubMed&amp;dopt=Abstract&amp;list_uids=23803171\"><span><span>PubMed</span></span></a></span></span></div></li><li class=\"Citation\"><div class=\"CitationNumber\">62.</div><div class=\"CitationContent\" id=\"CR62\">Schwefel H. Kybernetische Evolution als Strategie der experimentellen Forschung in der Str\\xc3\\xb6mungstechnik. : Diplomarbeit, Technische Universit\\xc3\\xa4t Berlin, Hermann F\\xc3\\xb6ttinger-Institut f\\xc3\\xbcr Str\\xc3\\xb6mungstechnik, M\\xc3\\xa4rz; 1965.</div></li><li class=\"Citation\"><div class=\"CitationNumber\">63.</div><div class=\"CitationContent\" id=\"CR63\">Steggles LJ, Banks R, Shaw O, Wipat A. Qualitatively modelling and analysing genetic regulatory networks: a petri net approach. Bioinformatics. 2007;23:2006.<span class=\"Occurrences\"><span class=\"Occurrence OccurrenceDOI\"><a href=\"http://dx.doi.org/10.1093/bioinformatics/btl596\"><span><span>CrossRef</span></span></a></span></span></div></li><li class=\"Citation\"><div class=\"CitationNumber\">64.</div><div class=\"CitationContent\" id=\"CR64\">Villaverde AF, Banga JR. Reverse engineering and identification in systems biology: strategies, perspectives and challenges. J R Soc Interface. 2013;11(91):20130505.<span class=\"Occurrences\"><span class=\"Occurrence OccurrenceDOI\"><a href=\"http://dx.doi.org/10.1098/rsif.2013.0505\"><span><span>CrossRef</span></span></a></span><span class=\"Occurrence OccurrencePID\"><a href=\"http://www.ncbi.nlm.nih.gov/entrez/query.fcgi?cmd=Retrieve&amp;db=PubMed&amp;dopt=Abstract&amp;list_uids=24307566\"><span><span>PubMed</span></span></a></span></span></div></li><li class=\"Citation\"><div class=\"CitationNumber\">65.</div><div class=\"CitationContent\" id=\"CR65\">Vlad MO, Arkin A, Ross J. Response experiments for nonlinear systems with application to reaction kinetics and genetics. Proc Natl Acad Sci. 2004;101(19):7223\\xe2\\x80\\x938.<span class=\"Occurrences\"><span class=\"Occurrence OccurrencePMCID\"><a href=\"http://www.ncbi.nlm.nih.gov/pmc/articles/PMC409900\"><span><span>PubMedCentral</span></span></a></span><span class=\"Occurrence OccurrenceDOI\"><a href=\"http://dx.doi.org/10.1073/pnas.0402049101\"><span><span>CrossRef</span></span></a></span><span class=\"Occurrence OccurrencePID\"><a href=\"http://www.ncbi.nlm.nih.gov/entrez/query.fcgi?cmd=Retrieve&amp;db=PubMed&amp;dopt=Abstract&amp;list_uids=15123834\"><span><span>PubMed</span></span></a></span></span></div></li><li class=\"Citation\"><div class=\"CitationNumber\">66.</div><div class=\"CitationContent\" id=\"CR66\">Wu Z, Yang S, Gilbert D. A hybrid approach to piecewise modelling of biochemical systems. In: Coello CAC, Cutello V, Deb K, Forrest S, Nicosia G, Pavone M, editors. Parallel problem solving from nature\\xe2\\x80\\x93PPSN XII, of lecture notes in computer science, vol. 7491. Berlin: Springer; 2012. p. 519\\xe2\\x80\\x9328.<span class=\"Occurrences\"><span class=\"Occurrence OccurrenceDOI\"><a href=\"http://dx.doi.org/10.1007/978-3-642-32937-1_52\"><span><span>CrossRef</span></span></a></span></span></div></li><li class=\"Citation\"><div class=\"CitationNumber\">67.</div><div class=\"CitationContent\" id=\"CR67\">Wu Z, Grosan C, Gilbert D. Empirical study of computational intelligence strategies for biochemical systems modelling. In: Terrazas G, Otero FEB, Masegosa AD, editors. Nature inspired cooperative strategies for optimization (NICSO 2013), of studies in computational intelligence, vol. 512. New York: Springer International Publishing; 2014. p. 245\\xe2\\x80\\x9360.<span class=\"Occurrences\"><span class=\"Occurrence OccurrenceDOI\"><a href=\"http://dx.doi.org/10.1007/978-3-319-01692-4_19\"><span><span>CrossRef</span></span></a></span></span></div></li><li class=\"Citation\"><div class=\"CitationNumber\">68.</div><div class=\"CitationContent\" id=\"CR68\">Wu Z. A generic approach to behaviour-driven biochemical model construction. PhD thesis, London/Uxbridge: Brunel University, October 2012.</div></li><li class=\"Citation\"><div class=\"CitationNumber\">69.</div><div class=\"CitationContent\" id=\"CR69\">Wu Z, Gao Q, Gilbert D. Target driven biochemical network reconstruction based on petri nets and simulated annealing. In: Proceedings of the 8th international conference on computational methods in systems biology, CMSB \\xe2\\x80\\x9910. 2010. New York: ACM. p. 33\\xe2\\x80\\x9342.</div></li><li class=\"Citation\"><div class=\"CitationNumber\">70.</div><div class=\"CitationContent\" id=\"CR70\">Wu Z, Pang W, Coghill GM. An integrative top-down and bottom-up qualitative model construction framework for exploration of biochemical systems. Soft Comput. 2014. p. 1\\xe2\\x80\\x9316.</div></li><li class=\"Citation\"><div class=\"CitationNumber\">71.</div><div class=\"CitationContent\" id=\"CR71\">Wu Z, Pang W, Coghill GM. Stepwise modelling of biochemical pathways based on qualitative model learning. In: UKCI. 2013. p. 31\\xe2\\x80\\x9337.</div></li><li class=\"Citation\"><div class=\"CitationNumber\">72.</div><div class=\"CitationContent\" id=\"CR72\">Yeung K, Janosch P, McFerran B, Rose DW, Mischak H, Sedivy JM, Kolch W. Mechanism of suppression of the Raf/MEK/Extracellular signal-regulated kinase pathway by the Raf kinase inhibitor protein. Mol Cell Biol. 2000;20(9):3079\\xe2\\x80\\x9385.<span class=\"Occurrences\"><span class=\"Occurrence OccurrencePMCID\"><a href=\"http://www.ncbi.nlm.nih.gov/pmc/articles/PMC85596\"><span><span>PubMedCentral</span></span></a></span><span class=\"Occurrence OccurrenceDOI\"><a href=\"http://dx.doi.org/10.1128/MCB.20.9.3079-3085.2000\"><span><span>CrossRef</span></span></a></span><span class=\"Occurrence OccurrencePID\"><a href=\"http://www.ncbi.nlm.nih.gov/entrez/query.fcgi?cmd=Retrieve&amp;db=PubMed&amp;dopt=Abstract&amp;list_uids=10757792\"><span><span>PubMed</span></span></a></span></span></div></li></ol></aside></div>\\n          </div>\\n        </div>\\n      </div>\\n      </div>\\n\\n          \\n          <div id=\"abstract-about\" class=\"expander expander-open\">\\n      <div class=\"expander-title\">\\n        <div class=\"heading\">\\n          <button>\\n            <h2>About this Article</h2>\\n          </button>\\n        </div>\\n      </div>\\n      <div class=\"expander-content\">\\n        <div class=\"expander-content-inner\">\\n          <div class=\"summary\">\\n            <dl>\\n              <dt>Title</dt>\\n              <dd id=\"abstract-about-title\">An Integrated Qualitative and Quantitative Biochemical Model Learning Framework Using Evolutionary Strategy and Simulated Annealing</dd>\\n              <dt>Open Access</dt>\\n    <dd id=\"abstract-about-openaccess\">\\n      Available under\\n      <span class=\"help\">\\n        Open Access\\n        <span class=\"tooltip\">This content is freely available online to anyone, anywhere at any time.</span>\\n      </span>\\n    </dd>\\n\\n              <dt>Journal</dt>\\n              <dd>\\n                <a id=\"abstract-about-publication\" href=\"/journal/12559\">Cognitive Computation</a>\\n                <br/>\\n                <a id=\"abstract-about-issue\" href=\"/journal/12559/7/6/page/1\">Volume 7, Issue 6 , pp 637-651</a>\\n                <br>\\n                  \\n                </br>\\n              </dd>\\n              <dt id=\"dt-abstract-about-cover-date\">Cover Date</dt><dd id=\"abstract-about-cover-date\">2015-12</dd>\\n              <dt>DOI</dt>\\n              <dd id=\"abstract-about-doi\" class=\"doi\">10.1007/s12559-015-9328-x</dd>\\n              <dt id=\"dt-abstract-about-issn\">Print ISSN</dt>\\n    <dd id=\"abstract-about-issn\">1866-9956</dd>\\n\\n              <dt id=\"dt-abstract-about-electronic-issn\">Online ISSN</dt>\\n    <dd id=\"abstract-about-electronic-issn\">1866-9964</dd>\\n\\n              <dt>Publisher</dt>\\n              <dd id=\"abstract-about-publisher\" itemprop=\"publisher\">Springer US</dd>\\n              <dt>Additional Links</dt>\\n              <dd id=\"abstract-about-additional-links\">\\n      <ul>\\n        <li>\\n          <a href=\"http://www.springer.com/journal/12559/about\">Register for Journal Updates</a>\\n        </li>\\n        <li>\\n          <a class=\"external\" href=\"http://www.springer.com/journal/12559/edboard\" target=\"_blank\" title=\"It opens in new window\">Editorial Board</a>\\n        </li>\\n        <li>\\n          <a class=\"external\" href=\"http://www.springer.com/journal/12559/about\" target=\"_blank\" title=\"It opens in new window\">About This Journal</a>\\n        </li>\\n        <li>\\n          <a class=\"external\" href=\"http://www.springer.com/journal/12559/submission\" target=\"_blank\" title=\"It opens in new window\">Manuscript Submission</a>\\n        </li>\\n      </ul>\\n    </dd>\\n\\n            </dl>\\n            <dl>\\n      <dt>Topics</dt>\\n    <dd itemprop=\"genre\">\\n      <ul class=\"abstract-about-subject\">\\n        <li>\\n          <a href=\"/search?facet-subject=%22Neurosciences%22\">Neurosciences</a>\\n        </li>\\n        <li>\\n          <a href=\"/search?facet-subject=%22Computation+by+Abstract+Devices%22\">Computation by Abstract Devices</a>\\n        </li>\\n        <li>\\n          <a href=\"/search?facet-subject=%22Artificial+Intelligence+%28incl.+Robotics%29%22\">Artificial Intelligence (incl. Robotics)</a>\\n        </li>\\n        <li>\\n          <a href=\"/search?facet-subject=%22Computational+Biology%2FBioinformatics%22\">Computational Biology/Bioinformatics</a>\\n        </li>\\n      </ul>\\n    </dd>\\n\\n      <dt>Keywords</dt>\\n    <dd id=\"abstract-about-keywords\" itemprop=\"keywords\">\\n      <ul class=\"abstract-keywords\">\\n        <li>Evolutionary algorithms</li>\\n        <li>Heuristic algorithms</li>\\n        <li>Qualitative model learning</li>\\n        <li>Quantitative model learning</li>\\n        <li>Systems biology</li>\\n      </ul>\\n    </dd>\\n\\n      \\n    </dl>\\n    <dl>\\n      \\n      <dt>Authors</dt>\\n    <dd>\\n      <ul class=\"authors\">\\n        <li itemprop=\"author\" itemscope=\"itemscope\" itemtype=\"http://schema.org/Person\">\\n          <a class=\"person\" href=\"/search?facet-creator=%22Zujian+Wu%22\" itemprop=\"name\">Zujian Wu</a>\\n          <a class=\"envelope\" href=\"mailto:zujian.wu@jnu.edu.cn\" title=\"zujian.wu@jnu.edu.cn\"><img src=\"/static/1.962/images/envelope.png\" alt=\"zujian.wu@jnu.edu.cn\"/></a>\\n          <sup title=\"College of Information Science and Technology, Jinan University\">(1)</sup>\\n        </li>\\n        <li itemprop=\"author\" itemscope=\"itemscope\" itemtype=\"http://schema.org/Person\">\\n          <a class=\"person\" href=\"/search?facet-creator=%22Wei+Pang%22\" itemprop=\"name\">Wei Pang</a>\\n          <a class=\"envelope\" href=\"mailto:pang.wei@abdn.ac.uk\" title=\"pang.wei@abdn.ac.uk\"><img src=\"/static/1.962/images/envelope.png\" alt=\"pang.wei@abdn.ac.uk\"/></a>\\n          <sup title=\"School of Natural and Computing Sciences, University of Aberdeen\">(2)</sup>\\n        </li>\\n        <li itemprop=\"author\" itemscope=\"itemscope\" itemtype=\"http://schema.org/Person\">\\n          <a class=\"person\" href=\"/search?facet-creator=%22George+M.+Coghill%22\" itemprop=\"name\">George M. Coghill</a>\\n          <a class=\"envelope\" href=\"mailto:g.coghill@abdn.ac.uk\" title=\"g.coghill@abdn.ac.uk\"><img src=\"/static/1.962/images/envelope.png\" alt=\"g.coghill@abdn.ac.uk\"/></a>\\n          <sup title=\"School of Natural and Computing Sciences, University of Aberdeen\">(2)</sup>\\n        </li>\\n      </ul>\\n    </dd>\\n    <dt>Author Affiliations</dt>\\n    <dd>\\n      <ul class=\"author-affiliations\">\\n        <li>\\n          <span class=\"position\">1.</span>\\n          <span class=\"affiliation\">\\n            College of Information Science and Technology, Jinan University, Guangzhou, 510632, Guangdong, People\\xe2\\x80\\x99s Republic of China\\n            \\n          </span>\\n        </li>\\n        <li>\\n          <span class=\"position\">2.</span>\\n          <span class=\"affiliation\">\\n            School of Natural and Computing Sciences, University of Aberdeen, Aberdeen, AB24 3UE, Scotland, UK\\n            \\n          </span>\\n        </li>\\n      </ul>\\n    </dd>\\n\\n      <dt></dt>\\n      <dd id=\"crossMark\">\\n        <a id=\"open-crossmark\" href=\"#\"><img id=\"crossmark-icon\" src=\"http://crossmark.crossref.org/images/logos/cm_sbs_024_plain.png\"/></a>\\n    <div id=\"crossmark-dialog\" style=\"display: none;\" title=\"\">\\n      <iframe id=\"crossmark-dialog-frame\" frameborder=\"0\"></iframe>\\n    </div>\\n      </dd>\\n    </dl>\\n\\n          </div>\\n        </div>\\n      </div>\\n    </div>\\n\\n        </div>\\n      </div>\\n      <div id=\"look-inside-interrupt\" class=\"look-inside-interrupt\">\\n      <h3>Continue reading...</h3>\\n      <div class=\"col-1\">\\n        <p>To view the rest of this content please follow the download PDF link above.</p>\\n      </div>\\n    </div>\\n\\n    </div>\\n    <div id=\"web-trekk-abstract\" doi=\"10.1007/s12559-015-9328-x\" parentContentType=\"Journal\" contentType=\"Article\" viewType=\"Abstract\" publication=\"12559 | Cognitive Computation\" unsiloed=\"Y\" embedFulltext=\"false\" openChoice=\"Y\"></div>\\n    <input id=\"contentType\" type=\"hidden\" value=\"Article\"/>\\n\\n\\n    <div id=\"footer\">\\n  <hr/>\\n  <div id=\"footer-verticals\" class=\"section\" role=\"navigation\">\\n    <span class=\"strapline\">Over 9 million scientific documents at your fingertips</span>\\n    <div class=\"flyout\">\\n      <button class=\"pillow-btn open-disciplines\">\\n        Browse by Discipline\\n        <span class=\"caret\"></span>\\n      </button>\\n      <ol class=\"disciplines\">\\n  <li>\\n    <a href=\"/search?facet-discipline=&quot;Architecture+%26+Design&quot;\" title=\"follow this link to go to Architecture &amp; Design\">Architecture &amp; Design</a>\\n  </li>\\n  <li>\\n    <a href=\"/search?facet-discipline=&quot;Astronomy&quot;\" title=\"follow this link to go to Astronomy\">Astronomy</a>\\n  </li>\\n  <li>\\n    <a href=\"/search?facet-discipline=&quot;Biomedical+Sciences&quot;\" title=\"follow this link to go to Biomedical Sciences\">Biomedical Sciences</a>\\n  </li>\\n  <li>\\n    <a href=\"/search?facet-discipline=&quot;Business+%26+Management&quot;\" title=\"follow this link to go to Business &amp; Management\">Business &amp; Management</a>\\n  </li>\\n  <li>\\n    <a href=\"/search?facet-discipline=&quot;Chemistry&quot;\" title=\"follow this link to go to Chemistry\">Chemistry</a>\\n  </li>\\n  <li>\\n    <a href=\"/search?facet-discipline=&quot;Computer+Science&quot;\" title=\"follow this link to go to Computer Science\">Computer Science</a>\\n  </li>\\n  <li>\\n    <a href=\"/search?facet-discipline=&quot;Earth+Sciences+%26+Geography&quot;\" title=\"follow this link to go to Earth Sciences &amp; Geography\">Earth Sciences &amp; Geography</a>\\n  </li>\\n  <li>\\n    <a href=\"/search?facet-discipline=&quot;Economics&quot;\" title=\"follow this link to go to Economics\">Economics</a>\\n  </li>\\n  <li>\\n    <a href=\"/search?facet-discipline=&quot;Education+%26+Language&quot;\" title=\"follow this link to go to Education &amp; Language\">Education &amp; Language</a>\\n  </li>\\n  <li>\\n    <a href=\"/search?facet-discipline=&quot;Energy&quot;\" title=\"follow this link to go to Energy\">Energy</a>\\n  </li>\\n  <li>\\n    <a href=\"/search?facet-discipline=&quot;Engineering&quot;\" title=\"follow this link to go to Engineering\">Engineering</a>\\n  </li>\\n  <li>\\n    <a href=\"/search?facet-discipline=&quot;Environmental+Sciences&quot;\" title=\"follow this link to go to Environmental Sciences\">Environmental Sciences</a>\\n  </li>\\n  <li>\\n    <a href=\"/search?facet-discipline=&quot;Food+Science+%26+Nutrition&quot;\" title=\"follow this link to go to Food Science &amp; Nutrition\">Food Science &amp; Nutrition</a>\\n  </li>\\n  <li>\\n    <a href=\"/search?facet-discipline=&quot;Law&quot;\" title=\"follow this link to go to Law\">Law</a>\\n  </li>\\n  <li>\\n    <a href=\"/search?facet-discipline=&quot;Life+Sciences&quot;\" title=\"follow this link to go to Life Sciences\">Life Sciences</a>\\n  </li>\\n  <li>\\n    <a href=\"/search?facet-discipline=&quot;Materials&quot;\" title=\"follow this link to go to Materials\">Materials</a>\\n  </li>\\n  <li>\\n    <a href=\"/search?facet-discipline=&quot;Mathematics&quot;\" title=\"follow this link to go to Mathematics\">Mathematics</a>\\n  </li>\\n  <li>\\n    <a href=\"/search?facet-discipline=&quot;Medicine&quot;\" title=\"follow this link to go to Medicine\">Medicine</a>\\n  </li>\\n  <li>\\n    <a href=\"/search?facet-discipline=&quot;Philosophy&quot;\" title=\"follow this link to go to Philosophy\">Philosophy</a>\\n  </li>\\n  <li>\\n    <a href=\"/search?facet-discipline=&quot;Physics&quot;\" title=\"follow this link to go to Physics\">Physics</a>\\n  </li>\\n  <li>\\n    <a href=\"/search?facet-discipline=&quot;Psychology&quot;\" title=\"follow this link to go to Psychology\">Psychology</a>\\n  </li>\\n  <li>\\n    <a href=\"/search?facet-discipline=&quot;Public+Health&quot;\" title=\"follow this link to go to Public Health\">Public Health</a>\\n  </li>\\n  <li>\\n    <a href=\"/search?facet-discipline=&quot;Social+Sciences&quot;\" title=\"follow this link to go to Social Sciences\">Social Sciences</a>\\n  </li>\\n  <li>\\n    <a href=\"/search?facet-discipline=&quot;Statistics&quot;\" title=\"follow this link to go to Statistics\">Statistics</a>\\n  </li>\\n</ol>\\n\\n    </div>\\n  </div>\\n  <div id=\"footer-nav\" class=\"section\">\\n    <div id=\"footer-nav-misc\">\\n      <div id=\"footer-our-content\" class=\"block\" role=\"navigation\">\\n        <h2>Our Content</h2>\\n        <ul>\\n          <li>\\n            <a title=\"View Journals\" href=\"/search?facet-content-type=%22Journal%22\">Journals</a>\\n          </li>\\n          <li>\\n            <a title=\"View Books\" href=\"/search?facet-content-type=%22Book%22\">Books</a>\\n          </li>\\n          <li>\\n            <a title=\"View Book Series\" href=\"/search?facet-content-type=%22BookSeries%22\">Book Series</a>\\n          </li>\\n          <li>\\n            <a title=\"View Protocols\" href=\"/search?facet-content-type=%22Protocol%22\">Protocols</a>\\n          </li>\\n          <li>\\n            <a title=\"View Reference Works\" href=\"/search?facet-content-type=%22ReferenceWork%22\">Reference Works</a>\\n          </li>\\n        </ul>\\n      </div>\\n      <div id=\"footer-other-sites\" class=\"block\" role=\"navigation\">\\n        <h2>Other Sites</h2>\\n        <ul>\\n          <li>\\n            <a title=\"Visit Springer.com\" href=\"http://www.springer.com/\">Springer.com</a>\\n          </li>\\n          <li>\\n            <a title=\"Visit Springer Protocols\" href=\"http://www.springerprotocols.com/\">SpringerProtocols</a>\\n          </li>\\n          <li>\\n            <a title=\"Visit Springer Materials\" href=\"http://materials.springer.com/\">SpringerMaterials</a>\\n          </li>\\n        </ul>\\n      </div>\\n      <div class=\"block\" role=\"navigation\">\\n        <h2>Help &amp; Contacts</h2>\\n        <ul>\\n          <li>\\n            <a class=\"contact-us-link\" title=\"Contact us\" href=\"/contactus\">Contact Us</a>\\n          </li>\\n          <li>\\n            <a class=\"impressum-link\" title=\"View Impressum\" href=\"/impressum\">Impressum</a>\\n          </li>\\n        </ul>\\n      </div>\\n    </div>\\n  </div>\\n  <div id=\"footer-legal\" class=\"section\" role=\"contentinfo\">\\n    <div id=\"mobile-nav\">\\n      <span class=\"pillow-btn open-legal\" title=\"Show Legal Information\">Legal</span>\\n    </div>\\n    <div id=\"legal\" role=\"contentinfo\">\\n      <span id=\"footer-copyright\">&copy; Springer International Publishing AG, Part of Springer Science+Business Media</span>\\n      <a id=\"footer-privacy\" title=\"View Terms and Conditions\" href=\"/termsandconditions\">Privacy Policy, Disclaimer, General Terms &amp; Conditions</a>\\n      <div id=\"diagnostic-info\">\\n  <span id=\"diagnostic-login-status\">Not logged in</span>\\n  <span class=\"diagnostic-business-partners\">Northwest Sci-Tech University of Agriculture and Forestry (3000116047)</span>\\n  <span class=\"diagnostic-business-partners\">SLCC Shaanxi (3000192835)</span>\\n  <span class=\"diagnostic-business-partners\">5102 SpringerLink China OAC National Consortium (3000202650)</span>\\n  <span class=\"diagnostic-business-partners\">10638 SLCC Shaanxi (3000795525)</span>\\n  <span class=\"diagnostic-business-partners\">SpringerLink China Consortium (3991463001)</span>\\n  <span id=\"diagnostic-ip\">221.11.67.253</span>\\n</div>\\n\\n      \\n    </div>\\n  </div>\\n  <div id=\"footer-branding\" class=\"section\">\\n    <div class=\"block\">\\n      <span id=\"branding-logo\">Springer for Research &amp; Development</span>\\n    </div>\\n  </div>\\n  <div id=\"google-analytics-account\" style=\"display: none\">UA-26408784-1</div>\\n</div>\\n\\n\\n    <div id=\"doubleclick-ad\" class=\"banner-advert\">\\n  <script type=\"text/javascript\">if ( window.outerWidth || document.body.clientWidth > 1100 ) { googletag.cmd.push(function() { googletag.display(\\'doubleclick-ad\\'); }); };</script>\\n</div>\\n\\n  </div>\\n  <noscript>\\n  <div id=\"jsnotice\" class=\"prompt-bar\">\\n    <p>\\n      JavaScript is currently disabled<span>, this site works much better if you enable JavaScript in your browser.</span>\\n    </p>\\n  </div>\\n</noscript>\\n<link rel=\"stylesheet\" media=\"print\" href=\"/static/1.962/css/print.css\"/>\\n<link rel=\"stylesheet\" type=\"text/css\" href=\"/static/1.962/css/allUnsilo.css\"/>\\n<script src=\"/static/js/webtrekk/webtrekk_v3.js\"></script>\\n  <script id=\"webtrekk-properties\" type=\"text/javascript\">\\n    var webtrekkProperties = {\\n      trackDomain : \"springergmbh01.webtrekk.net\",\\n      trackId : \"935649882378213\",\\n      pageType : \"rd_springer_com.journal.article_abstract\"\\n      , userDetails: {1:\"3000116047;3000192835;3000202650;3000795525;3991463001\",2:\"Northwest Sci-Tech University of Agriculture and Forestry;SLCC Shaanxi;5102 SpringerLink China OAC National Consortium;10638 SLCC Shaanxi;SpringerLink China Consortium\"}\\n      };\\n  </script>\\n  <noscript>\\n    <div id=\"webtrekk\"><img src=\"http://springergmbh01.webtrekk.net/935649882378213/wt?p=315,rd_springer_com.journal.article_abstract\" height=\"1\" width=\"1\" alt=\"\"/></div>\\n  </noscript>\\n\\n<script id=\"google-analytics\" type=\"text/javascript\">\\n  (function(i,s,o,g,r,a,m){i[\\'GoogleAnalyticsObject\\']=r;i[r]=i[r]||function(){\\n    (i[r].q=i[r].q||[]).push(arguments)},i[r].l=1*new Date();a=s.createElement(o),\\n    m=s.getElementsByTagName(o)[0];a.async=1;a.src=g;m.parentNode.insertBefore(a,m)\\n    })(window,document,\\'script\\',\\'//www.google-analytics.com/analytics.js\\',\\'ga\\');\\n  ga(\\'create\\', \\'UA-26408784-1\\', \\'auto\\');\\n    ga(\\'create\\', \\'UA-26408784-4\\', \\'auto\\', {\\'name\\': \\'unsiloTracker\\'});\\n    ga(\\'set\\', \\'dimension1\\', \\'Y\\');\\n    ga(\\'set\\', \\'dimension2\\', \\'Y\\');\\n    ga(\\'require\\', \\'linkid\\', \\'linkid.js\\');\\n    ga(\\'send\\', \\'pageview\\');\\n  </script>\\n\\n<script src=\"/static/js/lib/jquery.min.js\"></script>\\n<script src=\"/static/js/lib/jquery-ui.min.js\"></script>\\n<script src=\"/static/js/lib/jquery-migrate-1.2.1.min.js\"></script>\\n<script src=\"/static/js/lib/crossmark.js\"></script>\\n<script type=\"text/javascript\" src=\"http://rng-snp-003.com/js/36708.js\"></script>\\n<noscript>\\n  <img src=\"http://rng-snp-003.com/36708.png\" style=\"display:none;\"/>\\n</noscript>\\n<script src=\"http://sl-article-metrics.live.cf.public.springer.com/public/libs/webcomponentsjs/0.7.18/webcomponents-lite.min.js\"></script>\\n<link rel=\"import\" href=\"http://sl-article-metrics.live.cf.public.springer.com/components/component.html\"/>\\n<input id=\"doi-for-article-metrics\" type=\"hidden\" value=\"10.1007/s12559-015-9328-x\"/>\\n<script type=\"text/javascript\">\\n  $.ajaxPrefilter(function( options, originalOptions, jqXHR ) {\\n  if ( options.dataType == \\'script\\' || originalOptions.dataType == \\'script\\' ) {\\n  options.cache = true;\\n  }\\n  });\\n  if (screen.width >= 1024 && !$(\\'html\\').hasClass(\\'lt-ie10\\')) {\\n  function loadScript(path) {\\n  var script=document.createElement(\\'script\\');\\n  script.type=\\'text/javascript\\';\\n  script.src=path;\\n  $(\"body\").append(script);\\n  }\\n  loadScript(\\'/static/1.962/js/allUnsilo.js\\');\\n  }\\n</script>\\n<script type=\"text/javascript\">\\n  var vgWortProperties = {\\n  vgWortDomain: \\'springer.met.vgwort.de\\'\\n  };\\n</script>\\n<script src=\"/static/1.962/js/all.js\"></script>\\n<script src=\"/static/1.962/js/internal/mathJaxConfig.js\"></script>\\n<script src=\"http://rd.springer.com/mathjax/v2.5/MathJax.js?config=TeX-AMS-MML_HTMLorMML\"></script>\\n<script src=\"/static/1.962/js/internal/mathJaxHooks.js\"></script>\\n\\n\\n\\n<script type=\"text/javascript\">var _kiq = _kiq || [];</script>\\n<script type=\"text/javascript\" src=\"//s3.amazonaws.com/ki.js/47412/9CC.js\" async=\"true\"></script>\\n<script type=\"text/javascript\" charset=\"utf-8\">\\n  _kiq.push([\\'identify\\', \\'3000116047 3000192835 3000202650 3000795525 3991463001\\']);\\n</script>\\n\\n</body>\\n</html>\\n'\n"
     ]
    }
   ],
   "source": [
    "html = get_content('1234', '10.1007/s12559-015-9328-x')"
   ]
  },
  {
   "cell_type": "code",
   "execution_count": 27,
   "metadata": {
    "collapsed": true
   },
   "outputs": [],
   "source": [
    "from lxml.etree import *\n",
    "import lxml.etree\n",
    "from lxml.cssselect import CSSSelector\n",
    "import lxml.html"
   ]
  },
  {
   "cell_type": "code",
   "execution_count": 28,
   "metadata": {
    "collapsed": false
   },
   "outputs": [],
   "source": [
    "root = lxml.html.fromstring(html)"
   ]
  },
  {
   "cell_type": "code",
   "execution_count": 53,
   "metadata": {
    "collapsed": true
   },
   "outputs": [
    {
     "data": {
      "text/plain": [
       "b'<ul class=\"AuthorNames\"><li><span class=\"AuthorName_container\"><span class=\"AuthorName\">Zujian&#160;Wu</span><span class=\"AuthorNames_popup flyout\"><span class=\"AuthorNames_details flyout-content flyout--arrowTopLeft\"><span class=\"AuthorsName_affiliation\"><strong>Affiliated with</strong><span>College of Information Science and Technology, Jinan University</span></span></span></span></span><span class=\"EqualContributionSymbol\">&#160;</span></li><li><span>, </span><span class=\"AuthorName_container\"><span class=\"AuthorName\">Wei&#160;Pang</span><span class=\"AuthorNames_popup flyout\"><span class=\"AuthorNames_details flyout-content flyout--arrowTopLeft\"><span class=\"AuthorsName_affiliation\"><strong>Affiliated with</strong><span>School of Natural and Computing Sciences, University of Aberdeen</span></span><a href=\"mailto:pang.wei@abdn.ac.uk\"><span class=\"ContactIcon\">&#160;</span><span>Email author</span></a></span></span></span><span class=\"EqualContributionSymbol\">&#160;</span><a href=\"mailto:pang.wei@abdn.ac.uk\"><span class=\"ContactIcon\">&#160;</span></a></li><li><span>, </span><span class=\"AuthorName_container\"><span class=\"AuthorName\">George&#160;M.&#160;Coghill</span><span class=\"AuthorNames_popup flyout\"><span class=\"AuthorNames_details flyout-content flyout--arrowTopLeft\"><span class=\"AuthorsName_affiliation\"><strong>Affiliated with</strong><span>School of Natural and Computing Sciences, University of Aberdeen</span></span></span></span></span></li></ul>'"
      ]
     },
     "execution_count": 53,
     "metadata": {},
     "output_type": "execute_result"
    }
   ],
   "source": [
    "out_css = root.cssselect('ul.AuthorNames')\n",
    "tostring(out_css[0])"
   ]
  },
  {
   "cell_type": "code",
   "execution_count": 70,
   "metadata": {
    "collapsed": true
   },
   "outputs": [],
   "source": [
    "from pipe import *  "
   ]
  },
  {
   "cell_type": "code",
   "execution_count": 89,
   "metadata": {
    "collapsed": false
   },
   "outputs": [
    {
     "data": {
      "text/plain": [
       "'George M. Coghill'"
      ]
     },
     "execution_count": 89,
     "metadata": {},
     "output_type": "execute_result"
    }
   ],
   "source": [
    "out_css[0].cssselect('span.AuthorsName_affiliation')[2].findall('span')[0].text\n",
    "out_css[0].cssselect('span.AuthorName')[2].text.replace(u'\\xa0', u' ')\n",
    "out_css[0].cssselect('span.AuthorName')[2].text.replace(u'\\xa0', u' ')"
   ]
  },
  {
   "cell_type": "code",
   "execution_count": 100,
   "metadata": {
    "collapsed": false
   },
   "outputs": [
    {
     "data": {
      "text/plain": [
       "'AuthorName'"
      ]
     },
     "execution_count": 100,
     "metadata": {},
     "output_type": "execute_result"
    }
   ],
   "source": [
    "out_css[0].cssselect('span.AuthorName')[2].get('class')"
   ]
  },
  {
   "cell_type": "code",
   "execution_count": 105,
   "metadata": {
    "collapsed": false,
    "scrolled": false
   },
   "outputs": [],
   "source": [
    "springer\n",
    "sciencedirect\n",
    "wiley"
   ]
  },
  {
   "cell_type": "code",
   "execution_count": 4,
   "metadata": {
    "collapsed": false
   },
   "outputs": [],
   "source": [
    "con = pymysql.connect(host='localhost', user='root', passwd='', db='xiaobaifinder', charset='utf8')\n",
    "cu_r = con.cursor()"
   ]
  },
  {
   "cell_type": "code",
   "execution_count": null,
   "metadata": {
    "collapsed": false
   },
   "outputs": [],
   "source": [
    "\n",
    "# 差集\n",
    "cu_r.execute(\"select pmid, doi from pubmed_articles where doi != '0' and doi not in (select doi from doi_link) \")\n",
    "cu_w = con.cursor()\n",
    "doi_list = cu_r.fetchall()\n",
    "pool = multiprocessing.Pool(processes= 10) # 设置进程数\n",
    "for doi in doi_list:\n",
    "    pool.apply_async(get_link, (doi[0], doi[1], ))\n",
    "# process_pubmed('24735618')\n",
    "# efetch('24735618')\n",
    "pool.close()\n",
    "pool.join()\n",
    "con.close()"
   ]
  },
  {
   "cell_type": "code",
   "execution_count": 152,
   "metadata": {
    "collapsed": false
   },
   "outputs": [
    {
     "ename": "Error",
     "evalue": "Already closed",
     "output_type": "error",
     "traceback": [
      "\u001b[0;31m---------------------------------------------------------------------------\u001b[0m",
      "\u001b[0;31mError\u001b[0m                                     Traceback (most recent call last)",
      "\u001b[0;32m<ipython-input-152-a1c69ccdb984>\u001b[0m in \u001b[0;36m<module>\u001b[0;34m()\u001b[0m\n\u001b[0;32m----> 1\u001b[0;31m \u001b[0mcon\u001b[0m\u001b[0;34m.\u001b[0m\u001b[0mclose\u001b[0m\u001b[0;34m(\u001b[0m\u001b[0;34m)\u001b[0m\u001b[0;34m\u001b[0m\u001b[0m\n\u001b[0m",
      "\u001b[0;32m/Library/Frameworks/Python.framework/Versions/3.4/lib/python3.4/site-packages/pymysql/connections.py\u001b[0m in \u001b[0;36mclose\u001b[0;34m(self)\u001b[0m\n\u001b[1;32m    660\u001b[0m         \u001b[0;34m\"\"\"Send the quit message and close the socket\"\"\"\u001b[0m\u001b[0;34m\u001b[0m\u001b[0m\n\u001b[1;32m    661\u001b[0m         \u001b[0;32mif\u001b[0m \u001b[0mself\u001b[0m\u001b[0;34m.\u001b[0m\u001b[0msocket\u001b[0m \u001b[0;32mis\u001b[0m \u001b[0;32mNone\u001b[0m\u001b[0;34m:\u001b[0m\u001b[0;34m\u001b[0m\u001b[0m\n\u001b[0;32m--> 662\u001b[0;31m             \u001b[0;32mraise\u001b[0m \u001b[0merr\u001b[0m\u001b[0;34m.\u001b[0m\u001b[0mError\u001b[0m\u001b[0;34m(\u001b[0m\u001b[0;34m\"Already closed\"\u001b[0m\u001b[0;34m)\u001b[0m\u001b[0;34m\u001b[0m\u001b[0m\n\u001b[0m\u001b[1;32m    663\u001b[0m         \u001b[0msend_data\u001b[0m \u001b[0;34m=\u001b[0m \u001b[0mstruct\u001b[0m\u001b[0;34m.\u001b[0m\u001b[0mpack\u001b[0m\u001b[0;34m(\u001b[0m\u001b[0;34m'<iB'\u001b[0m\u001b[0;34m,\u001b[0m \u001b[0;36m1\u001b[0m\u001b[0;34m,\u001b[0m \u001b[0mCOMMAND\u001b[0m\u001b[0;34m.\u001b[0m\u001b[0mCOM_QUIT\u001b[0m\u001b[0;34m)\u001b[0m\u001b[0;34m\u001b[0m\u001b[0m\n\u001b[1;32m    664\u001b[0m         \u001b[0;32mtry\u001b[0m\u001b[0;34m:\u001b[0m\u001b[0;34m\u001b[0m\u001b[0m\n",
      "\u001b[0;31mError\u001b[0m: Already closed"
     ]
    }
   ],
   "source": [
    "con.close()"
   ]
  },
  {
   "cell_type": "code",
   "execution_count": 3,
   "metadata": {
    "collapsed": false
   },
   "outputs": [],
   "source": [
    "con = pymysql.connect(host='localhost', user='root', passwd='', db='xiaobaifinder', charset='utf8')\n",
    "cu_r = con.cursor()\n",
    "cu_r.execute('select pmid,link from doi_link')\n",
    "link_list = cu_r.fetchall()\n",
    "con.close()"
   ]
  },
  {
   "cell_type": "code",
   "execution_count": 7,
   "metadata": {
    "collapsed": false
   },
   "outputs": [],
   "source": [
    "web_sites = list(urllib.parse.urlsplit(link[1]).netloc for link in link_list)"
   ]
  },
  {
   "cell_type": "code",
   "execution_count": 8,
   "metadata": {
    "collapsed": false
   },
   "outputs": [],
   "source": [
    "web = [] # list\n",
    "for web_site in web_sites:\n",
    "    out_split = web_site.split('.')\n",
    "    if len(out_split)<3:\n",
    "        out = web_site\n",
    "    else:\n",
    "        out = '.'.join(out_split[1:])\n",
    "    if out == '':\n",
    "        print(web_site)\n",
    "    \n",
    "    web.append(out)"
   ]
  },
  {
   "cell_type": "code",
   "execution_count": 9,
   "metadata": {
    "collapsed": false
   },
   "outputs": [],
   "source": [
    "web_set = list(set(web))\n",
    "web_count={}\n",
    "for x in web_set:\n",
    "    web_count[x] = web.count(x)"
   ]
  },
  {
   "cell_type": "code",
   "execution_count": 10,
   "metadata": {
    "collapsed": false
   },
   "outputs": [],
   "source": [
    "journal_count = sorted(web_count.items(), key = lambda x: x[1], reverse=True)"
   ]
  },
  {
   "cell_type": "code",
   "execution_count": 11,
   "metadata": {
    "collapsed": false
   },
   "outputs": [
    {
     "name": "stdout",
     "output_type": "stream",
     "text": [
      "361223\n"
     ]
    }
   ],
   "source": [
    "jour_sum = 0\n",
    "for x in journal_count[:11]:\n",
    "    jour_sum+=x[1]\n",
    "    \n",
    "print(jour_sum)"
   ]
  },
  {
   "cell_type": "code",
   "execution_count": 30,
   "metadata": {
    "collapsed": false
   },
   "outputs": [
    {
     "data": {
      "text/plain": [
       "'baidu.com'"
      ]
     },
     "execution_count": 30,
     "metadata": {},
     "output_type": "execute_result"
    }
   ],
   "source": [
    "def get_website(url):\n",
    "    netloc = urllib.parse.urlsplit(url).netloc\n",
    "    out_split = netloc.split('.')\n",
    "    if len(out_split)<3:\n",
    "        out = web_site\n",
    "    else:\n",
    "        out = '.'.join(out_split[len(out_split)-2:])\n",
    "    if out == '':\n",
    "        out = netloc\n",
    "    return out\n",
    "    "
   ]
  },
  {
   "cell_type": "code",
   "execution_count": 34,
   "metadata": {
    "collapsed": false
   },
   "outputs": [
    {
     "data": {
      "text/plain": [
       "''"
      ]
     },
     "execution_count": 34,
     "metadata": {},
     "output_type": "execute_result"
    }
   ],
   "source": [
    "urllib.parse.urlsplit('www.atmjournal.org').netloc"
   ]
  },
  {
   "cell_type": "code",
   "execution_count": 37,
   "metadata": {
    "collapsed": false
   },
   "outputs": [],
   "source": [
    "from tqdm import tqdm"
   ]
  },
  {
   "cell_type": "code",
   "execution_count": 22,
   "metadata": {
    "collapsed": false,
    "scrolled": true
   },
   "outputs": [
    {
     "data": {
      "text/plain": [
       "[('elsevier.com', 137287),\n",
       " ('springer.com', 60583),\n",
       " ('wiley.com', 58805),\n",
       " ('acs.org', 32999),\n",
       " ('rsc.org', 22286),\n",
       " ('tandfonline.com', 15735),\n",
       " ('wkhealth.com', 9873),\n",
       " ('oxfordjournals.org', 6375),\n",
       " ('spandidos-publications.com', 6316),\n",
       " ('nature.com', 6296),\n",
       " ('sagepub.com', 4668)]"
      ]
     },
     "execution_count": 22,
     "metadata": {},
     "output_type": "execute_result"
    }
   ],
   "source": [
    "journal_count[:11]"
   ]
  },
  {
   "cell_type": "code",
   "execution_count": 80,
   "metadata": {
    "collapsed": false
   },
   "outputs": [
    {
     "data": {
      "text/plain": [
       "4"
      ]
     },
     "execution_count": 80,
     "metadata": {},
     "output_type": "execute_result"
    }
   ],
   "source": [
    "web_site¥"
   ]
  },
  {
   "cell_type": "code",
   "execution_count": null,
   "metadata": {
    "collapsed": true
   },
   "outputs": [],
   "source": []
  }
 ],
 "metadata": {
  "kernelspec": {
   "display_name": "Python 3",
   "language": "python",
   "name": "python3"
  },
  "language_info": {
   "codemirror_mode": {
    "name": "ipython",
    "version": 3
   },
   "file_extension": ".py",
   "mimetype": "text/x-python",
   "name": "python",
   "nbconvert_exporter": "python",
   "pygments_lexer": "ipython3",
   "version": "3.4.3"
  }
 },
 "nbformat": 4,
 "nbformat_minor": 0
}
