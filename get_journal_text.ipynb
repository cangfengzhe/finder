{
 "cells": [
  {
   "cell_type": "code",
   "execution_count": 278,
   "metadata": {
    "collapsed": true
   },
   "outputs": [],
   "source": [
    "import multiprocessing\n",
    "import pycurl\n",
    "import pymysql\n",
    "import urllib.parse\n",
    "import io\n",
    "import re\n",
    "import json\n",
    "import requests\n",
    "from lxml.html import fromstring, tostring"
   ]
  },
  {
   "cell_type": "code",
   "execution_count": 294,
   "metadata": {
    "collapsed": false,
    "scrolled": true
   },
   "outputs": [
    {
     "name": "stdout",
     "output_type": "stream",
     "text": [
      "(('26647786', 'http://pubs.acs.org/doi/10.1021/acsami.5b09094'), ('26647284', 'http://pubs.acs.org/doi/10.1021/acsami.5b10786'), ('26647225', 'http://pubs.acs.org/doi/10.1021/acsnano.5b06716'), ('26647019', 'http://pubs.acs.org/doi/10.1021/acsnano.5b05596'), ('26647005', 'http://pubs.acs.org/doi/10.1021/acs.molpharmaceut.5b00630'), ('26646791', 'http://pubs.acs.org/doi/10.1021/acsnano.5b06011'), ('26646753', 'http://pubs.acs.org/doi/10.1021/acs.bioconjchem.5b00569'), ('26646667', 'http://pubs.acs.org/doi/10.1021/acs.orglett.5b03192'), ('26646584', 'http://pubs.acs.org/doi/10.1021/acsnano.5b05406'), ('26646554', 'http://pubs.acs.org/doi/10.1021/acs.orglett.5b03223'))\n"
     ]
    }
   ],
   "source": [
    "con = pymysql.connect(host='localhost', user='root', passwd='', db='xiaobaifinder', charset='utf8')\n",
    "cu_r = con.cursor()\n",
    "cu_r.execute('select pmid,link from doi_link where link like \"%acs.org%\" limit 100,10')\n",
    "link_list = cu_r.fetchall()\n",
    "print(link_list)\n",
    "con.close()"
   ]
  },
  {
   "cell_type": "code",
   "execution_count": 350,
   "metadata": {
    "collapsed": false
   },
   "outputs": [],
   "source": [
    "url = 'http://pubs.acs.org/doi/10.1021/acsami.5b09094'"
   ]
  },
  {
   "cell_type": "code",
   "execution_count": 351,
   "metadata": {
    "collapsed": false
   },
   "outputs": [],
   "source": [
    "headers = {'User-Agent': 'Mozilla/5.0 (Macintosh; Intel Mac OS X 10_10_5) AppleWebKit/537.36 (KHTML, like Gecko) Chrome/47.0.2526.111 Safari/537.36'}\n",
    "\n",
    "text = requests.get(url, headers = headers).content.decode('utf-8')"
   ]
  },
  {
   "cell_type": "code",
   "execution_count": 352,
   "metadata": {
    "collapsed": false
   },
   "outputs": [
    {
     "name": "stdout",
     "output_type": "stream",
     "text": [
      "11 1 Wushuang Bai Institute of Analytical Science, Shaanxi Provincial KeyLaboratory of Electroanalytical Chemistry, Northwest University, Xi’an, Shaanxi 710069, China None 0\n",
      "11 2 Qinglin Sheng Institute of Analytical Science, Shaanxi Provincial KeyLaboratory of Electroanalytical Chemistry, Northwest University, Xi’an, Shaanxi 710069, China None 0\n",
      "11 3 Fei Nie Institute of Analytical Science, Shaanxi Provincial KeyLaboratory of Electroanalytical Chemistry, Northwest University, Xi’an, Shaanxi 710069, China None 0\n",
      "11 4 Jianbin Zheng Institute of Analytical Science, Shaanxi Provincial KeyLaboratory of Electroanalytical Chemistry, Northwest University, Xi’an, Shaanxi 710069, China zhengjb@nwu.edu.cn 1\n",
      "['controllable synthesis', 'liquid-gas reaction', 'manganese oxide', 'electrochemical sensing', 'hydrogen peroxide']\n"
     ]
    }
   ],
   "source": [
    "acs(11, text)"
   ]
  },
  {
   "cell_type": "code",
   "execution_count": 348,
   "metadata": {
    "collapsed": false
   },
   "outputs": [],
   "source": [
    "def acs(pmid, text):\n",
    "    root = fromstring(text)\n",
    "    # aff\n",
    "    aff_dict={}\n",
    "    aff_index = 0\n",
    "    aff_list = root.cssselect('div.affiliations div')\n",
    "    first = None\n",
    "    if len(aff_list)==1:\n",
    "        first=1\n",
    "    for aff in aff_list:\n",
    "        aff_index +=1\n",
    "        \n",
    "        if not first:\n",
    "            sup = aff.find('sup').text_content()\n",
    "#             print(sup)\n",
    "            aff_name = aff.text_content().replace(sup, '').replace('\\r\\n', '').strip()\n",
    "            aff_dict[sup] = aff_name\n",
    "#             print(aff_name)\n",
    "        else:\n",
    "            aff_name = aff.text_content().replace('\\r\\n', '').strip()\n",
    "            aff_dict['first']=aff_name\n",
    "#         cu.execute('insert into journal_aff (pmid, aff_index, aff_name) values(%s, %s, %s)', (pmid, aff_index, aff_name,))\n",
    "#         con.commit()\n",
    "    corresp_email = [email.text for email in root.cssselect('div#correspondence a')]\n",
    "    # author\n",
    "    author_index=0\n",
    "\n",
    "    equal = re.compile('Authors with equal contribution').findall(text)\n",
    "    \n",
    "    for author_li in root.cssselect('div#authors>span.hlFld-ContribAuthor'):\n",
    "#         print(tostring(author_li))\n",
    "        corresp=0\n",
    "        author=None\n",
    "        email = None\n",
    "        author_aff_name = None\n",
    "        author_index +=1\n",
    "        author_aff_list=[]\n",
    "        author = author_li.text_content().replace(',', '').replace('and', '').replace('*', '').strip()\n",
    "        author = re.compile('[0-9]').sub('', author)\n",
    "        if not first:\n",
    "            sups = author_li.findall('a.NLM_xref-aff')\n",
    "            for sup in sups:\n",
    "                aff_name = aff_dict[sup.text]\n",
    "            author_aff_list.append(aff_name)\n",
    "        else:\n",
    "            author_aff_list.append(aff_dict['first'])\n",
    "        authro_corresp = author_li.cssselect('a.ref')\n",
    "#         print(tostring(authro_corresp[0]).text_content)\n",
    "        if authro_corresp and authro_corresp[0].text_content() == '*':\n",
    "            \n",
    "            corresp=1\n",
    "            email = corresp_email.pop(0)\n",
    "        for author_aff_name in author_aff_list:\n",
    "#             pass\n",
    "            print(pmid, author_index, author, author_aff_name, email, corresp)\n",
    "#             cu.execute('insert into journal_author values(%s, %s, %s, %s, %s, %s)',\n",
    "#                (pmid, author_index, author, author_aff_name, email, corresp,))\n",
    "#             con.commit() \n",
    "    # keywords\n",
    "    keywords = [kw.text for kw in  root.cssselect('div.keywords a')]\n",
    "    print(keywords)"
   ]
  },
  {
   "cell_type": "code",
   "execution_count": 293,
   "metadata": {
    "collapsed": true
   },
   "outputs": [
    {
     "name": "stdout",
     "output_type": "stream",
     "text": [
      "[<Element a at 0x107d009f8>]\n",
      "b'<li id=\"adma201504747-cr-0001\">Liubing Dong<sup>1,2</sup>, </li>'\n",
      "['1', '2']\n",
      "b'<li id=\"adma201504747-cr-0002\">Chengjun Xu<sup>1,*</sup>, </li>'\n",
      "['1', '*']\n",
      "vivaxuchengjun@163.com []\n",
      "b'<li id=\"adma201504747-cr-0003\">Yang Li<sup>3</sup>, </li>'\n",
      "['3']\n",
      "b'<li id=\"adma201504747-cr-0004\">Changle Wu<sup>1</sup>, </li>'\n",
      "['1']\n",
      "b'<li id=\"adma201504747-cr-0005\">Baozheng Jiang<sup>1</sup>, </li>'\n",
      "['1']\n",
      "b'<li id=\"adma201504747-cr-0006\">Qian Yang<sup>1</sup>, </li>'\n",
      "['1']\n",
      "b'<li id=\"adma201504747-cr-0007\">Enlou Zhou<sup>4</sup>, </li>'\n",
      "['4']\n",
      "b'<li id=\"adma201504747-cr-0008\">Feiyu Kang<sup>1,2,*</sup> and</li>'\n",
      "['1', '2', '*']\n",
      "fykang@mail.tsinghua.edu.cn []\n",
      "b'<li id=\"adma201504747-cr-0009\">Quan-Hong Yang<sup>1</sup></li>'\n",
      "['1']\n"
     ]
    }
   ],
   "source": [
    "con = pymysql.connect(host='localhost', user='root', passwd='', db='xiaobaifinder', charset='utf8')\n",
    "cu = con.cursor()\n",
    "# cu.execute('create table if not exists journal_keyword(pmid int, keywords varchar(200))')\n",
    "# cu.execute('create table if not exists journal_aff(pmid int,aff_index int, aff_name Text)')\n",
    "# cu.execute('create table if not exists journal_author(pmid int,author_index int,\\\n",
    "#             author varchar(200), author_aff Text, email varchar(200), corresp int)')\n",
    "# con.commit()\n",
    "pmid=1\n",
    "# text = elsevier(pmid, url)\n",
    "wiley(11, url)\n",
    "cu.close()\n",
    "con.close()"
   ]
  },
  {
   "cell_type": "code",
   "execution_count": 292,
   "metadata": {
    "collapsed": false
   },
   "outputs": [],
   "source": [
    "def wiley(pmid, url):\n",
    "    # wiley 存在问题， 个别时候 * 即表示共同第一又表示通讯, 已解决\n",
    "    text = requests.get(url, headers = headers).content\n",
    "    root = fromstring(text)\n",
    "    new = root.cssselect('a#wol1backlink')\n",
    "    if new:\n",
    "        print(new)\n",
    "        url= new[0].get('href')\n",
    "        text = requests.get(url, headers = headers).content\n",
    "        root = fromstring(text)\n",
    "    # aff\n",
    "    #authorsAffiliations\n",
    "    if not isinstance(text, str):\n",
    "        text = text.decode('utf-8')\n",
    "    aff_dict={}\n",
    "    aff_index = 0\n",
    "    aff_list = root.cssselect('ol#authorsAffiliations li')\n",
    "    first = None # 单位的数目\n",
    "    if len(aff_list)==1:\n",
    "        first=1\n",
    "    for aff in aff_list:\n",
    "        aff_index +=1\n",
    "        aff_name = aff.find('p').text_content()\n",
    "        if not first:\n",
    "            sup = aff.find('span').text_content()\n",
    "            aff_dict[sup] = aff_name\n",
    "        else:\n",
    "            aff_dict['first']=aff_name\n",
    "        cu.execute('insert into journal_aff (pmid, aff_index, aff_name) values(%s, %s, %s)', (pmid, aff_index, aff_name,))\n",
    "        con.commit()\n",
    "    corresp_email = [email.text for email in root.cssselect('p#correspondence a')]\n",
    "    # author\n",
    "    author_index=0\n",
    "\n",
    "    equal = re.compile('Authors with equal contribution').findall(text)\n",
    "    \n",
    "    for author_li in root.cssselect('ol#authors li'):\n",
    "        print(tostring(author_li))\n",
    "        corresp=0\n",
    "        author=None\n",
    "        email = None\n",
    "        author_aff_name = None\n",
    "        author_index +=1\n",
    "        author = author_li.text_content().replace(',', '').replace('and', '').replace('*', '').strip()\n",
    "        author = re.compile('[0-9]').sub('', author)\n",
    "        author_aff_list = []\n",
    "        author_sup = author_li.find('sup')\n",
    "        if author_sup is not None: \n",
    "            sups = author_sup.text_content().split(',')\n",
    "            print(sups)\n",
    "            for sup in sups:\n",
    "                if sup in  aff_dict:# 标号是不是在sups里面\n",
    "                    author_aff_list.append(aff_dict[sup])\n",
    "#                 elif first:\n",
    "#                     author_aff_list.append(aff_dict['first'])\n",
    "                if (sup=='*' and equal and (author_index>2)) or (not equal and sup=='*') : # 解决共同第一的问题\n",
    "                    corresp=1\n",
    "                    email = corresp_email.pop(0)\n",
    "                    print(email,equal)\n",
    "        elif first:#没有 sup也就是只有一个单位\n",
    "            author_aff_list.append(aff_name)\n",
    "            \n",
    "        for author_aff_name in author_aff_list:\n",
    "            cu.execute('insert into journal_author values(%s, %s, %s, %s, %s, %s)',\n",
    "               (pmid, author_index, author, author_aff_name, email, corresp,))\n",
    "            con.commit()\n",
    "                \n",
    "    #keyword\n",
    "    for kw in root.cssselect('ul.keywordList li'):\n",
    "#         print(kw.text_content().replace(';', '').strip())\n",
    "        cu.execute('insert into journal_keyword values(%s, %s)', (pmid, kw.text_content().replace(';', '').strip(),))\n",
    "        con.commit()\n",
    "    "
   ]
  },
  {
   "cell_type": "code",
   "execution_count": 151,
   "metadata": {
    "collapsed": true
   },
   "outputs": [],
   "source": [
    "\n",
    "def springer(pmid, url):\n",
    "#     response = requests.get(url, headers=headers)\n",
    "    text = requests.get(url, headers = headers).content\n",
    "    root = fromstring(text)\n",
    "    # aff\n",
    "    aff_index = 0\n",
    "    for aff in root.cssselect('ul.author-affiliations li'):\n",
    "        aff_index +=1\n",
    "        for span in aff.findall('span'):\n",
    "            if 'affiliation' in span.get('class'):\n",
    "                aff_name = span.text_content().strip()\n",
    "                cu.execute('insert into journal_aff (pmid, aff_index, aff_name) values(%s, %s, %s)', (pmid, aff_index, aff_name,))\n",
    "                con.commit()\n",
    "    # author\n",
    "    author_index = 0\n",
    "    for author_li in root.cssselect('ul.authors li'):\n",
    "        corresp=0\n",
    "        author=None\n",
    "        email = None\n",
    "        author_aff_name = None\n",
    "        author_index +=1\n",
    "        for a in author_li.findall('a'):\n",
    "            if 'person' in a.get('class'):\n",
    "                author = a.text_content()\n",
    "            if 'envelope' in a.get('class'):\n",
    "                corresp = 1\n",
    "                email = a.get('title')\n",
    "        author_aff_list = [aff.get('title') for aff in  author_li.findall('sup')]\n",
    "        if author_aff_list:\n",
    "            for author_aff_name in author_aff_list:\n",
    "                cu.execute('insert into journal_author values(%s, %s, %s, %s, %s, %s)',\n",
    "                           (pmid, author_index, author, author_aff_name, email, corresp,))\n",
    "                con.commit()\n",
    "        else:\n",
    "            cu.execute('insert into journal_author values(%s, %s, %s, %s, %s, %s)',\n",
    "                           (pmid, author_index, author, author_aff_name, email, corresp,))\n",
    "            con.commit()\n",
    "            \n",
    "    # keywords\n",
    "#     keywords = root.cssselect('span.Keyword')\n",
    "    for kw in root.cssselect('span.Keyword'):\n",
    "        cu.execute('insert into journal_keyword values(%s, %s)', (pmid, kw.text_content().strip(),))\n",
    "        con.commit()     \n",
    "    "
   ]
  },
  {
   "cell_type": "code",
   "execution_count": null,
   "metadata": {
    "collapsed": true
   },
   "outputs": [],
   "source": []
  },
  {
   "cell_type": "code",
   "execution_count": 117,
   "metadata": {
    "collapsed": true
   },
   "outputs": [],
   "source": [
    "def elsevier(pmid, url):\n",
    "    response = requests.get(url)\n",
    "    server = response.headers['Server']\n",
    "    if server == 'www.sciencedirect.com':\n",
    "        get_sciencedirect(pmid, response.content)\n",
    "        \n",
    "    return(response.content)"
   ]
  },
  {
   "cell_type": "code",
   "execution_count": 131,
   "metadata": {
    "collapsed": false
   },
   "outputs": [],
   "source": [
    "def get_sciencedirect(pmid, text):\n",
    "    pmid = int(pmid)\n",
    "    root = fromstring(text)\n",
    "#     ul = root.cssselect('ul.authorGroup')[0]\n",
    "    # aff\n",
    "    aff_dict = {}\n",
    "    aff_index = 0\n",
    "    for aff in root.cssselect('ul.affiliation li'):\n",
    "        aff_index +=1\n",
    "        aff_id = aff.get('id')\n",
    "        aff_name = aff.find('span').text_content()\n",
    "        aff_dict[aff_id] = str(aff_name)\n",
    "        cu.execute('insert into journal_aff (pmid, aff_index, aff_name) values(%s, %s, %s)', (pmid, aff_index, aff_name,))\n",
    "        con.commit()\n",
    "    # author\n",
    "    author_index = 0\n",
    "    for author_li in root.cssselect('ul.authorGroup li'):\n",
    "        a_list = author_li.findall('a')\n",
    "        corresp=0\n",
    "        author=None\n",
    "        email = None\n",
    "        author_aff_name = None\n",
    "        author_index +=1\n",
    "        author_aff_list = []\n",
    "        for a in a_list:\n",
    "            if 'authorName' in a.get('class'):\n",
    "                author = a.text_content()\n",
    "            if a.get('title') and 'Corresponding author contact information' in a.get('title'):\n",
    "                corresp = 1\n",
    "#                 print(corresp)\n",
    "            if a.get('class') and a.get('href') and 'auth_mail' in a.get('class'):\n",
    "                email = a.get('href').replace('mailto:', '')\n",
    "#                 print(email)\n",
    "            if a.get('title') and 'Affiliation' in a.get('title') or len(aff_dict)==1:\n",
    "                \n",
    "                if len(aff_dict) == 1:\n",
    "#                     author_aff_name=aff_dict[aff_id]\n",
    "                    author_aff_list.append(aff_dict[aff_id])\n",
    "                else:\n",
    "                    aff = a.get('href').replace('#', '')\n",
    "#                     author_aff_name = aff_dict[aff]\n",
    "                    author_aff_list.append(aff_dict[aff])\n",
    "        if author_aff_list:\n",
    "            for author_aff_name in author_aff_list:\n",
    "                cu.execute('insert into journal_author values(%s, %s, %s, %s, %s, %s)',\n",
    "                           (pmid, author_index, author, author_aff_name, email, corresp,))\n",
    "                con.commit()\n",
    "        else:\n",
    "            cu.execute('insert into journal_author values(%s, %s, %s, %s, %s, %s)',\n",
    "                           (pmid, author_index, author, author_aff_name, email, corresp,))\n",
    "            con.commit()\n",
    "\n",
    "                \n",
    "\n",
    "    #keywords\n",
    "    keywords = root.cssselect('ul.keyword li')\n",
    "    for kw in keywords:\n",
    "        cu.execute('insert into journal_keyword values(%s, %s)', (pmid, kw.text_content().replace(';', '').strip(),))\n",
    "        con.commit()\n",
    "            "
   ]
  },
  {
   "cell_type": "code",
   "execution_count": 225,
   "metadata": {
    "collapsed": false
   },
   "outputs": [
    {
     "name": "stderr",
     "output_type": "stream",
     "text": [
      "/Library/Frameworks/Python.framework/Versions/3.4/lib/python3.4/site-packages/pymysql/cursors.py:146: Warning: Table 'journal_keyword' already exists\n",
      "  result = self._query(query)\n",
      "/Library/Frameworks/Python.framework/Versions/3.4/lib/python3.4/site-packages/pymysql/cursors.py:146: Warning: Table 'journal_aff' already exists\n",
      "  result = self._query(query)\n",
      "/Library/Frameworks/Python.framework/Versions/3.4/lib/python3.4/site-packages/pymysql/cursors.py:146: Warning: Table 'journal_author' already exists\n",
      "  result = self._query(query)\n",
      "/Library/Frameworks/Python.framework/Versions/3.4/lib/python3.4/site-packages/ipykernel/__main__.py:37: FutureWarning: The behavior of this method will change in future versions. Use specific 'len(elem)' or 'elem is not None' test instead.\n"
     ]
    }
   ],
   "source": [
    "con = pymysql.connect(host='localhost', user='root', passwd='', db='xiaobaifinder', charset='utf8')\n",
    "cu = con.cursor()\n",
    "cu.execute('create table if not exists journal_keyword(pmid int, keywords varchar(200))')\n",
    "cu.execute('create table if not exists journal_aff(pmid int,aff_index int, aff_name Text)')\n",
    "cu.execute('create table if not exists journal_author(pmid int,author_index int,\\\n",
    "            author varchar(200), author_aff Text, email varchar(200), corresp int)')\n",
    "con.commit()\n",
    "pmid=1\n",
    "# text = elsevier(pmid, url)\n",
    "wiley(7, url)\n",
    "cu.close()\n",
    "con.close()\n",
    "\n",
    "\n",
    "\n",
    "\n"
   ]
  },
  {
   "cell_type": "code",
   "execution_count": 3,
   "metadata": {
    "collapsed": true
   },
   "outputs": [],
   "source": [
    "def get_content(url):\n",
    "    try:\n",
    "        storage = io.BytesIO()\n",
    "        c = pycurl.Curl()\n",
    "        c.setopt(c.URL, url)\n",
    "        c.setopt(pycurl.FOLLOWLOCATION, 1) \n",
    "        c.setopt(pycurl.WRITEFUNCTION, storage.write)\n",
    "        # c.setopt(c.HTTPHEADER,[\"Accept: application/vnd.crossref.unixsd+xml\"])\n",
    "        c.perform()\n",
    "        out = c.getinfo(pycurl.EFFECTIVE_URL)\n",
    "#         cu_w.execute('insert into doi_link values(%s, %s, %s)', (pmid,doi, out))\n",
    "#         con.commit()\n",
    "        c.close()\n",
    "        content = storage.getvalue().decode('utf-8')\n",
    "#         print(out)\n",
    "#         print(content)\n",
    "        storage.close()\n",
    "        return content,out\n",
    "    except Exception as e:\n",
    "        print(e)"
   ]
  },
  {
   "cell_type": "code",
   "execution_count": null,
   "metadata": {
    "collapsed": true
   },
   "outputs": [],
   "source": []
  },
  {
   "cell_type": "code",
   "execution_count": 64,
   "metadata": {
    "collapsed": false
   },
   "outputs": [],
   "source": [
    "con = pymysql.connect(host='localhost', user='root', passwd='', db='xiaobaifinder', charset='utf8')\n",
    "cu_r = con.cursor()\n",
    "cu_r.execute('insert into tmp values(%s)', (None,))\n",
    "con.commit()\n",
    "cu_r.close()\n",
    "con.close()"
   ]
  },
  {
   "cell_type": "code",
   "execution_count": null,
   "metadata": {
    "collapsed": true
   },
   "outputs": [],
   "source": []
  }
 ],
 "metadata": {
  "kernelspec": {
   "display_name": "Python 3",
   "language": "python",
   "name": "python3"
  },
  "language_info": {
   "codemirror_mode": {
    "name": "ipython",
    "version": 3
   },
   "file_extension": ".py",
   "mimetype": "text/x-python",
   "name": "python",
   "nbconvert_exporter": "python",
   "pygments_lexer": "ipython3",
   "version": "3.4.3"
  }
 },
 "nbformat": 4,
 "nbformat_minor": 0
}
