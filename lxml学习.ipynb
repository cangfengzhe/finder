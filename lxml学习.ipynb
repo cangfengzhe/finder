{
 "cells": [
  {
   "cell_type": "markdown",
   "metadata": {},
   "source": [
    "---\n",
    "layout: post\n",
    "title: python lxml包学习笔记\n",
    "description: \"python，学习，笔记，lxml，html，xml，解析\"\n",
    "category: [python]\n",
    "tags : [learn]\n",
    "duoshuo: true\n",
    "---\n",
    "\n",
    "\n",
    "python lxml包用于解析XML和html文件，可以使用xpath和css定位元素，个人认为相对于BeautifulSoup功能更加强大，更加灵活。本文根据lxml官方文档和自己的理解列出常用的函数, 本文代码为python3.4， lxml2.0\n",
    ">lxml：http://lxml.de/\n",
    "\n",
    ">支持：python2 python3\n",
    "\n",
    "## 解析XML， 以pubmed文献数据库文本解析为例\n",
    "\n",
    "### 导入xml字符串\n",
    "导入xml字符串有多种方式，我最长使用的是 lxml.etree.XML(xml字符串), etree.fromstring(xml字符串)也可以"
   ]
  },
  {
   "cell_type": "code",
   "execution_count": 131,
   "metadata": {
    "collapsed": false
   },
   "outputs": [],
   "source": [
    "import lxml.etree \n",
    "import urllib.request\n",
    "from lxml.etree import *\n",
    "str_url = 'http://eutils.ncbi.nlm.nih.gov/entrez/eutils/efetch.fcgi?db=pubmed&id=26693255&retmode=text&rettype=xml'\n",
    "request = urllib.request.Request(str_url)\n",
    "xml_text = urllib.request.urlopen(request).read()\n",
    "root = lxml.etree.XML(xml_text) # xml_text 为xml纯文本文件"
   ]
  },
  {
   "cell_type": "markdown",
   "metadata": {},
   "source": [
    "root 为lxml.etree._Element 对象，含有多个函数"
   ]
  },
  {
   "cell_type": "markdown",
   "metadata": {},
   "source": [
    " root 含有find，findall， xpath，get，getchildren函数， 重点请help（root）\n",
    " \n",
    " ### findall， find\n",
    " findall(...)\n",
    " |      findall(self, path, namespaces=None)\n",
    " |      \n",
    " |      Finds all matching subelements, by tag name or path.\n",
    " |      输入下一级对象的tag标签或xpath(必须是相对路径.//开头)，返回匹配结果的所有元素，是一个list\n",
    " |      The optional ``namespaces`` argument accepts a\n",
    " |      prefix-to-namespace mapping that allows the usage of XPath\n",
    " |      prefixes in the path expression.\n",
    " \n",
    " find(...)\n",
    " |      find(self, path, namespaces=None)\n",
    " |      \n",
    " |      Finds the first matching subelement, by tag name or path.\n",
    " |      输入下一级的tag标签或xpath，返回匹配结果的第一个元素\n",
    " |      The optional ``namespaces`` argument accepts a\n",
    " |      prefix-to-namespace mapping that allows the usage of XPath\n",
    " |      prefixes in the path expression.\n"
   ]
  },
  {
   "cell_type": "code",
   "execution_count": 135,
   "metadata": {
    "collapsed": false
   },
   "outputs": [
    {
     "name": "stdout",
     "output_type": "stream",
     "text": [
      "tag: Cognitive computation\n"
     ]
    }
   ],
   "source": [
    "# example  获取杂志名称和ISSN\n",
    "# 使用 tag作为输入需要逐级进行\n",
    "journal_name = root.find('PubmedArticle').find('MedlineCitation').find('Article').find('Journal').find('Title').text\n",
    "print('tag:', journal_name)"
   ]
  },
  {
   "cell_type": "code",
   "execution_count": 136,
   "metadata": {
    "collapsed": false
   },
   "outputs": [
    {
     "name": "stdout",
     "output_type": "stream",
     "text": [
      "xpath: Cognitive computation\n"
     ]
    }
   ],
   "source": [
    "# 也可以使用xpath(必须使用相对路径，以.//开头，如果想使用绝对路径可以使用xpath函数)\n",
    "journal_name = root.find('.//Title').text\n",
    "print('xpath:' ,journal_name)"
   ]
  },
  {
   "cell_type": "code",
   "execution_count": 137,
   "metadata": {
    "collapsed": false
   },
   "outputs": [
    {
     "name": "stdout",
     "output_type": "stream",
     "text": [
      "issn attr: Print\n"
     ]
    }
   ],
   "source": [
    "# text是element对象的属性，可以得到内部的内容，如果要得到标签内部的属性\n",
    "#使用get函数\n",
    "# 比如得到 <ISSN IssnType=\"Print\">1866-9956</ISSN>的 IssnTYpe属性，则可以使用get函数\n",
    "issn_attr = root.find('.//ISSN').get('IssnType')\n",
    "print('issn attr:', issn_attr)"
   ]
  },
  {
   "cell_type": "code",
   "execution_count": 138,
   "metadata": {
    "collapsed": false
   },
   "outputs": [
    {
     "data": {
      "text/plain": [
       "b'<JournalIssue CitedMedium=\"Print\">\\n                    <Volume>7</Volume>\\n                    <Issue>6</Issue>\\n                    <PubDate>\\n                        <MedlineDate>2015</MedlineDate>\\n                    </PubDate>\\n                </JournalIssue>\\n                '"
      ]
     },
     "execution_count": 138,
     "metadata": {},
     "output_type": "execute_result"
    }
   ],
   "source": [
    "# 使用tostring函数\n",
    "# 可以得到改标签下的全部内容，tostring函数是 lxml.etree 下的静态函数，使用前需要 from lxml.etree import *\n",
    "tostring(root.find('.//JournalIssue')) # 得到JournalIssue标签下的全部内容"
   ]
  },
  {
   "cell_type": "markdown",
   "metadata": {},
   "source": [
    "###  findall函数与find函数类似，find相当于findall('tag')[0]"
   ]
  },
  {
   "cell_type": "markdown",
   "metadata": {},
   "source": [
    "### xpath 函数\n",
    "具体xpath的学习可以参考 http://www.w3school.com.cn/xpath/xpath_syntax.asp\n",
    "xpath与findall类似也返回一个list，不同之处是只能使用xpath，而且可以使用xpath的相对路径和绝对路径"
   ]
  },
  {
   "cell_type": "code",
   "execution_count": 139,
   "metadata": {
    "collapsed": false
   },
   "outputs": [
    {
     "name": "stdout",
     "output_type": "stream",
     "text": [
      "Cognitive computation\n"
     ]
    }
   ],
   "source": [
    "journal_name = root.xpath('//Title')[0].text\n",
    "print(journal_name)"
   ]
  },
  {
   "cell_type": "markdown",
   "metadata": {},
   "source": [
    "### getchildren函数\n",
    "得到所有直接子元素"
   ]
  },
  {
   "cell_type": "markdown",
   "metadata": {},
   "source": [
    "> 注意，使用findall，find，xpath时一定要确定元素是否存在（可以用 if 判断），然后才读取text属性，否则会遇到 Type 'NoneType' cannot be serialized., list index out of range, 'NoneType' object has no attribute 'text'这样的错误。\n",
    "\n",
    "> 除了上述读取的函数，lxml还包含了很多设置的函数，功能强大，具体可以去看lxml官方文档"
   ]
  },
  {
   "cell_type": "markdown",
   "metadata": {},
   "source": [
    "## lxml 解析 html 以爬取 豆瓣电影主页本周口碑榜\n",
    "\n",
    "http://movie.douban.com/"
   ]
  },
  {
   "cell_type": "markdown",
   "metadata": {},
   "source": [
    "### 导入html字符串，使用 lxml.html.fromstring(html_text)"
   ]
  },
  {
   "cell_type": "code",
   "execution_count": 140,
   "metadata": {
    "collapsed": false
   },
   "outputs": [],
   "source": [
    "import lxml.html\n",
    "str_url = 'http://movie.douban.com/'\n",
    "request = urllib.request.Request(str_url)\n",
    "html_text = urllib.request.urlopen(request).read()\n",
    "root = lxml.html.fromstring(html_text)"
   ]
  },
  {
   "cell_type": "markdown",
   "metadata": {},
   "source": [
    "### 依旧可以使用find，findall函数,用法与XML部分完全相同，可以使用下一级的tag和xpath作为输出，此处不再赘述"
   ]
  },
  {
   "cell_type": "markdown",
   "metadata": {},
   "source": [
    "### cssselect() 函数，返回list，包含所有匹配的结果，可以使用css选择器，类似于jquery"
   ]
  },
  {
   "cell_type": "code",
   "execution_count": 141,
   "metadata": {
    "collapsed": false
   },
   "outputs": [
    {
     "name": "stdout",
     "output_type": "stream",
     "text": [
      "['老炮儿', '八恶人', '卡罗尔', '海街日记', '荒野猎人', '寻龙诀', '丹麦女孩', '龙虾', '边境杀手', '实习生']\n"
     ]
    }
   ],
   "source": [
    "# 获取本页面所有项目名称\n",
    "movies_list = [a.text for a in  root.cssselect('div.billboard-bd tr td a')]\n",
    "print(movies_list)"
   ]
  },
  {
   "cell_type": "code",
   "execution_count": 143,
   "metadata": {
    "collapsed": false
   },
   "outputs": [
    {
     "name": "stdout",
     "output_type": "stream",
     "text": [
      "['http://movie.douban.com/subject/24751756/', 'http://movie.douban.com/subject/25787888/', 'http://movie.douban.com/subject/10757577/', 'http://movie.douban.com/subject/25895901/', 'http://movie.douban.com/subject/5327268/', 'http://movie.douban.com/subject/3077412/', 'http://movie.douban.com/subject/3071604/', 'http://movie.douban.com/subject/20514947/', 'http://movie.douban.com/subject/25881247/', 'http://movie.douban.com/subject/10594965/']\n"
     ]
    }
   ],
   "source": [
    "# 获取所有电影超链接\n",
    "movies_href = [a.get('href') for a in  root.cssselect('div.billboard-bd tr td a')]\n",
    "print(movies_href)"
   ]
  },
  {
   "cell_type": "markdown",
   "metadata": {},
   "source": [
    "### 其他函数\n",
    "  text_content() 可以返回改element下的所有文本（去除所有<>标签）\n",
    "  \n",
    "  .make_links_absolute(base_href, resolve_base_href=True) 有时候遇到的链接是相对路径，可以使用该函数将相对路径转换为绝对路径\n",
    "  \n",
    "  .rewrite_links(link_repl_func, resolve_base_href=True, base_href=None)根据替换函数替换链接"
   ]
  }
 ],
 "metadata": {
  "kernelspec": {
   "display_name": "Python 3",
   "language": "python",
   "name": "python3"
  },
  "language_info": {
   "codemirror_mode": {
    "name": "ipython",
    "version": 3
   },
   "file_extension": ".py",
   "mimetype": "text/x-python",
   "name": "python",
   "nbconvert_exporter": "python",
   "pygments_lexer": "ipython3",
   "version": "3.4.3"
  }
 },
 "nbformat": 4,
 "nbformat_minor": 0
}
