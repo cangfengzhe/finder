{
 "cells": [
  {
   "cell_type": "code",
   "execution_count": 15,
   "metadata": {
    "collapsed": true
   },
   "outputs": [],
   "source": [
    "import multiprocessing\n",
    "import pycurl\n",
    "import pymysql"
   ]
  },
  {
   "cell_type": "code",
   "execution_count": 2,
   "metadata": {
    "collapsed": false
   },
   "outputs": [],
   "source": [
    "\n",
    "# import io  \n",
    "def get_link(pmid,doi):\n",
    "#     storage = io.BytesIO()\n",
    "    try:\n",
    "        c = pycurl.Curl()\n",
    "        c.setopt(c.URL, 'http://dx.doi.org/'+doi)\n",
    "        c.setopt(pycurl.FOLLOWLOCATION, 1) \n",
    "    #     c.setopt(pycurl.WRITEFUNCTION, storage.write)\n",
    "        # c.setopt(c.HTTPHEADER,[\"Accept: application/vnd.crossref.unixsd+xml\"])\n",
    "        c.perform()\n",
    "        out = c.getinfo(pycurl.EFFECTIVE_URL)\n",
    "        cu_w.execute('insert into doi_link values(%s, %s, %s)', (pmid,doi, out))\n",
    "        con.commit()\n",
    "        c.close()\n",
    "    except Exception as e:\n",
    "        print(e)\n",
    "\n"
   ]
  },
  {
   "cell_type": "code",
   "execution_count": 16,
   "metadata": {
    "collapsed": false
   },
   "outputs": [],
   "source": [
    "con = pymysql.connect(host='localhost', user='root', passwd='', db='xiaobaifinder', charset='utf8')\n",
    "cu_r = con.cursor()"
   ]
  },
  {
   "cell_type": "code",
   "execution_count": null,
   "metadata": {
    "collapsed": false
   },
   "outputs": [],
   "source": [
    "\n",
    "# 差集\n",
    "cu_r.execute(\"select pmid, doi from pubmed_articles where doi != '0' and doi not in (select doi from doi_link) \")\n",
    "cu_w = con.cursor()\n",
    "doi_list = cu_r.fetchall()\n",
    "pool = multiprocessing.Pool(processes= 10) # 设置进程数\n",
    "for doi in doi_list:\n",
    "    pool.apply_async(get_link, (doi[0], doi[1], ))\n",
    "# process_pubmed('24735618')\n",
    "# efetch('24735618')\n",
    "pool.close()\n",
    "pool.join()\n"
   ]
  },
  {
   "cell_type": "code",
   "execution_count": null,
   "metadata": {
    "collapsed": false
   },
   "outputs": [],
   "source": [
    "con.close()"
   ]
  },
  {
   "cell_type": "code",
   "execution_count": 17,
   "metadata": {
    "collapsed": true
   },
   "outputs": [],
   "source": [
    "cu_r.execute('select pmid,link from doi_link')\n",
    "link_list = cu_r.fetchall()"
   ]
  },
  {
   "cell_type": "code",
   "execution_count": 18,
   "metadata": {
    "collapsed": true
   },
   "outputs": [],
   "source": [
    "web_site = set(urllib.parse.urlsplit(link[1])[1] for link in link_list)"
   ]
  },
  {
   "cell_type": "code",
   "execution_count": 20,
   "metadata": {
    "collapsed": false
   },
   "outputs": [
    {
     "data": {
      "text/plain": [
       "107"
      ]
     },
     "execution_count": 20,
     "metadata": {},
     "output_type": "execute_result"
    }
   ],
   "source": [
    "len(web_site)"
   ]
  },
  {
   "cell_type": "code",
   "execution_count": 4,
   "metadata": {
    "collapsed": false
   },
   "outputs": [],
   "source": [
    "import urllib.parse\n",
    "url_str = urllib.parse.urlsplit('http://baidu.com/hahha')"
   ]
  },
  {
   "cell_type": "code",
   "execution_count": null,
   "metadata": {
    "collapsed": true
   },
   "outputs": [],
   "source": [
    "# 文章类别\n",
    "def get_content(pmid, link):\n",
    "    if \n"
   ]
  }
 ],
 "metadata": {
  "kernelspec": {
   "display_name": "Python 3",
   "language": "python",
   "name": "python3"
  },
  "language_info": {
   "codemirror_mode": {
    "name": "ipython",
    "version": 3
   },
   "file_extension": ".py",
   "mimetype": "text/x-python",
   "name": "python",
   "nbconvert_exporter": "python",
   "pygments_lexer": "ipython3",
   "version": "3.4.3"
  }
 },
 "nbformat": 4,
 "nbformat_minor": 0
}
