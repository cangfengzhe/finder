{
 "cells": [
  {
   "cell_type": "code",
   "execution_count": null,
   "metadata": {
    "collapsed": true
   },
   "outputs": [],
   "source": [
    "import common\n",
    "import urllib.parse\n",
    "import urllib.request\n"
   ]
  },
  {
   "cell_type": "code",
   "execution_count": null,
   "metadata": {
    "collapsed": true
   },
   "outputs": [],
   "source": [
    "common.open_url('http://dx.doi.org/10.1186/1758-2946-6-13')"
   ]
  },
  {
   "cell_type": "code",
   "execution_count": 2,
   "metadata": {
    "collapsed": true
   },
   "outputs": [],
   "source": [
    "import pymysql\n",
    "import common"
   ]
  },
  {
   "cell_type": "code",
   "execution_count": 3,
   "metadata": {
    "collapsed": false
   },
   "outputs": [],
   "source": [
    "con = pymysql.connect(host='localhost', user='root', passwd='', db='xiaobaifinder', charset='utf8')\n",
    "cu = con.cursor()"
   ]
  },
  {
   "cell_type": "code",
   "execution_count": 4,
   "metadata": {
    "collapsed": true
   },
   "outputs": [
    {
     "name": "stdout",
     "output_type": "stream",
     "text": [
      "http://dx.doi.org/10.1186/1758-2946-6-13\n",
      "http://dx.doi.org/10.1016/j.fob.2015.10.009\n",
      "HTTP Error 404: Not Found\n",
      "http://dx.doi.org/10.1155/2015/802046\n",
      "http://dx.doi.org/10.1155/2015/579639\n",
      "http://dx.doi.org/10.1155/2015/496759\n",
      "http://dx.doi.org/10.1155/2015/293271\n",
      "http://dx.doi.org/10.1155/2015/981843\n",
      "http://dx.doi.org/10.1016/j.dib.2015.09.048\n",
      "HTTP Error 404: Not Found\n",
      "http://dx.doi.org/10.1016/j.dib.2015.10.032\n",
      "HTTP Error 404: Not Found\n",
      "http://dx.doi.org/10.1007/s12559-015-9347-7\n"
     ]
    }
   ],
   "source": [
    "cu.execute(\"select doi from pubmed_articles where doi !='0' limit 10\")\n",
    "doi_list = cu.fetchall()\n",
    "f = open('test.txt', 'a')\n",
    "for doi in doi_list:\n",
    "    url = 'http://dx.doi.org/' + doi[0]\n",
    "    print(url)\n",
    "    html = common.open_url(url)\n",
    "    if html:\n",
    "        f.write(html)"
   ]
  },
  {
   "cell_type": "code",
   "execution_count": 2,
   "metadata": {
    "collapsed": true
   },
   "outputs": [],
   "source": [
    "import pymysql\n",
    "import re"
   ]
  },
  {
   "cell_type": "code",
   "execution_count": 7,
   "metadata": {
    "collapsed": false,
    "scrolled": false
   },
   "outputs": [],
   "source": [
    "\n",
    "con = pymysql.connect(host='localhost', user='root', passwd='', db='xiaobaifinder', charset='utf8')\n",
    "cu = con.cursor()\n",
    "cu.execute(\"select pmc_id, first_aff from pmc_article2\")\n",
    "aff_list = cu.fetchall()\n",
    "for aff in aff_list:\n",
    "    str_re = re.compile('(<label>.*?>)|(<sup>.*</sup>)')\n",
    "    txt = str_re.sub('', aff[1])\n",
    "    strinfo = re.compile('<[^>]*>')\n",
    "    txt = strinfo.sub('', txt)\n",
    "    aff_names = txt.split(',')\n",
    "    school, college, hospital, lab = '0', '0', '0', '0'\n",
    "    for aff_name in aff_names:\n",
    "        m1 = re.compile('university|academy|Harbin Institute of Technology', re.I).findall(aff_name)\n",
    "        if m1:\n",
    "            school = aff_name.strip()\n",
    "        m2 = re.compile('college|school|institute', re.I).findall(aff_name)\n",
    "        if m2:\n",
    "             college = aff_name.strip()\n",
    "        m3 = re.compile('hospital', re.I).findall(aff_name)\n",
    "        if m3:\n",
    "            hospital= aff_name.strip()\n",
    "        m4 = re.compile('Key Laboratory of|The State Key Laboratory of', re.I).findall(aff_name)\n",
    "        if m4:\n",
    "            lab = aff_name.strip()\n",
    "    cu.execute('insert into aff_name values(%s, %s, %s, %s, %s, %s)', ('pmc', aff[0], school, college, hospital, lab))\n",
    "    con.commit()\n",
    "    \n",
    "con.close()"
   ]
  },
  {
   "cell_type": "code",
   "execution_count": 24,
   "metadata": {
    "collapsed": true
   },
   "outputs": [],
   "source": [
    "txt = 'Centre for Cell &amp; Developmental Biology and State Key Laboratory of Agrobiotechnology, School of Life Sciences, The Chinese University of Hong Kong, Shatin, New Territories, Hong Kong, China'"
   ]
  },
  {
   "cell_type": "code",
   "execution_count": 46,
   "metadata": {
    "collapsed": false
   },
   "outputs": [],
   "source": [
    "m = re.compile('university|academy', re.I).findall(aff_names[2])"
   ]
  },
  {
   "cell_type": "code",
   "execution_count": 6,
   "metadata": {
    "collapsed": false
   },
   "outputs": [
    {
     "data": {
      "text/plain": [
       "'af fad fad   afd'"
      ]
     },
     "execution_count": 6,
     "metadata": {},
     "output_type": "execute_result"
    }
   ],
   "source": [
    "' af fad fad   afd   '.strip()"
   ]
  },
  {
   "cell_type": "code",
   "execution_count": 39,
   "metadata": {
    "collapsed": false
   },
   "outputs": [
    {
     "name": "stdout",
     "output_type": "stream",
     "text": [
      "None\n"
     ]
    }
   ],
   "source": [
    "print(m)"
   ]
  },
  {
   "cell_type": "code",
   "execution_count": null,
   "metadata": {
    "collapsed": true
   },
   "outputs": [],
   "source": []
  }
 ],
 "metadata": {
  "kernelspec": {
   "display_name": "Python 3",
   "language": "python",
   "name": "python3"
  },
  "language_info": {
   "codemirror_mode": {
    "name": "ipython",
    "version": 3
   },
   "file_extension": ".py",
   "mimetype": "text/x-python",
   "name": "python",
   "nbconvert_exporter": "python",
   "pygments_lexer": "ipython3",
   "version": "3.4.3"
  }
 },
 "nbformat": 4,
 "nbformat_minor": 0
}
